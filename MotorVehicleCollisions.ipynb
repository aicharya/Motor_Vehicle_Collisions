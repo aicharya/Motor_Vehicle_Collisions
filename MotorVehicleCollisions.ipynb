{
  "nbformat": 4,
  "nbformat_minor": 0,
  "metadata": {
    "colab": {
      "provenance": [],
      "authorship_tag": "ABX9TyPyUR2JQT/W+YCYx3wFx+yl",
      "include_colab_link": true
    },
    "kernelspec": {
      "name": "python3",
      "display_name": "Python 3"
    },
    "language_info": {
      "name": "python"
    }
  },
  "cells": [
    {
      "cell_type": "markdown",
      "metadata": {
        "id": "view-in-github",
        "colab_type": "text"
      },
      "source": [
        "<a href=\"https://colab.research.google.com/github/aicharya/Motor_Vehicle_Collisions/blob/main/MotorVehicleCollisions.ipynb\" target=\"_parent\"><img src=\"https://colab.research.google.com/assets/colab-badge.svg\" alt=\"Open In Colab\"/></a>"
      ]
    },
    {
      "cell_type": "code",
      "execution_count": null,
      "metadata": {
        "id": "JS9MEaeoQNp5"
      },
      "outputs": [],
      "source": [
        "import pandas as pd"
      ]
    },
    {
      "cell_type": "code",
      "source": [
        "import plotly.express as px"
      ],
      "metadata": {
        "id": "nkJ4gAmu78Zr"
      },
      "execution_count": null,
      "outputs": []
    },
    {
      "cell_type": "code",
      "source": [
        "columnDataTypes = { 'BOROUGH' : 'str', 'ZIP CODE' : 'str', 'ON STREET NAME' : 'str', 'CROSS STREET NAME' : 'str', 'OFF STREET NAME' : 'str',\n",
        "                    'VEHICLE TYPE CODE 1' : 'str', 'VEHICLE TYPE CODE 2' : 'str', 'VEHICLE TYPE CODE 3' : 'str' , \n",
        "                    'VEHICLE TYPE CODE 4' : 'str', 'VEHICLE TYPE CODE 5' : 'str',\n",
        "                    'CONTRIBUTING FACTOR VEHICLE 1' : 'str',  'CONTRIBUTING FACTOR VEHICLE 2' : 'str', 'CONTRIBUTING FACTOR VEHICLE 3' : 'str',\n",
        "                    'CONTRIBUTING FACTOR VEHICLE 4' : 'str', 'CONTRIBUTING FACTOR VEHICLE 5' : 'str' ,}"
      ],
      "metadata": {
        "id": "J2wH6b2qxtGk"
      },
      "execution_count": null,
      "outputs": []
    },
    {
      "cell_type": "code",
      "source": [
        "columnDataTypes = { 'ZIP CODE' : 'str', }\n",
        "df = pd.read_csv('https://data.cityofnewyork.us/api/views/h9gi-nx95/rows.csv?accessType=DOWNLOAD', dtype = columnDataTypes, parse_dates = [[0, 1]], infer_datetime_format = True)"
      ],
      "metadata": {
        "id": "CEnzaVk_QQs9"
      },
      "execution_count": null,
      "outputs": []
    },
    {
      "cell_type": "code",
      "source": [
        "for column in df.columns:\n",
        "  print(column, \" - \", pd.api.types.infer_dtype(df[column]))"
      ],
      "metadata": {
        "id": "noGP-3WF9HSa",
        "outputId": "b2e28317-a3e4-465d-8cff-435ae71ab3f6",
        "colab": {
          "base_uri": "https://localhost:8080/"
        }
      },
      "execution_count": 34,
      "outputs": [
        {
          "output_type": "stream",
          "name": "stdout",
          "text": [
            "TIME  -  datetime64\n",
            "BOROUGH  -  string\n",
            "ZIP CODE  -  string\n",
            "LATITUDE  -  floating\n",
            "LONGITUDE  -  floating\n",
            "LOCATION  -  string\n",
            "ON STREET NAME  -  string\n",
            "CROSS STREET NAME  -  string\n",
            "OFF STREET NAME  -  string\n",
            "NUMBER OF PERSONS INJURED  -  floating\n",
            "NUMBER OF PERSONS KILLED  -  floating\n",
            "NUMBER OF PEDESTRIANS INJURED  -  integer\n",
            "NUMBER OF PEDESTRIANS KILLED  -  integer\n",
            "NUMBER OF CYCLIST INJURED  -  integer\n",
            "NUMBER OF CYCLIST KILLED  -  integer\n",
            "NUMBER OF MOTORIST INJURED  -  integer\n",
            "NUMBER OF MOTORIST KILLED  -  integer\n",
            "CONTRIBUTING FACTOR VEHICLE 1  -  string\n",
            "CONTRIBUTING FACTOR VEHICLE 2  -  string\n",
            "CONTRIBUTING FACTOR VEHICLE 3  -  string\n",
            "CONTRIBUTING FACTOR VEHICLE 4  -  string\n",
            "CONTRIBUTING FACTOR VEHICLE 5  -  string\n",
            "COLLISION_ID  -  integer\n",
            "VEHICLE TYPE CODE 1  -  string\n",
            "VEHICLE TYPE CODE 2  -  string\n",
            "VEHICLE TYPE CODE 3  -  string\n",
            "VEHICLE TYPE CODE 4  -  string\n",
            "VEHICLE TYPE CODE 5  -  string\n"
          ]
        }
      ]
    },
    {
      "cell_type": "code",
      "source": [
        "df.head()"
      ],
      "metadata": {
        "colab": {
          "base_uri": "https://localhost:8080/",
          "height": 473
        },
        "id": "GLFf-AyJQQ4x",
        "outputId": "840da794-08c1-4b28-83c6-06fea7d29ce5"
      },
      "execution_count": null,
      "outputs": [
        {
          "output_type": "execute_result",
          "data": {
            "text/plain": [
              "  CRASH DATE_CRASH TIME   BOROUGH ZIP CODE   LATITUDE  LONGITUDE  \\\n",
              "0   2021-09-11 02:39:00       NaN      NaN        NaN        NaN   \n",
              "1   2022-03-26 11:45:00       NaN      NaN        NaN        NaN   \n",
              "2   2022-06-29 06:55:00       NaN      NaN        NaN        NaN   \n",
              "3   2021-09-11 09:35:00  BROOKLYN    11208  40.667202 -73.866500   \n",
              "4   2021-12-14 08:13:00  BROOKLYN    11233  40.683304 -73.917274   \n",
              "\n",
              "                  LOCATION           ON STREET NAME CROSS STREET NAME  \\\n",
              "0                      NaN    WHITESTONE EXPRESSWAY         20 AVENUE   \n",
              "1                      NaN  QUEENSBORO BRIDGE UPPER               NaN   \n",
              "2                      NaN       THROGS NECK BRIDGE               NaN   \n",
              "3    (40.667202, -73.8665)                      NaN               NaN   \n",
              "4  (40.683304, -73.917274)          SARATOGA AVENUE    DECATUR STREET   \n",
              "\n",
              "           OFF STREET NAME  NUMBER OF PERSONS INJURED  ...  \\\n",
              "0                      NaN                        2.0  ...   \n",
              "1                      NaN                        1.0  ...   \n",
              "2                      NaN                        0.0  ...   \n",
              "3  1211      LORING AVENUE                        0.0  ...   \n",
              "4                      NaN                        0.0  ...   \n",
              "\n",
              "   CONTRIBUTING FACTOR VEHICLE 2  CONTRIBUTING FACTOR VEHICLE 3  \\\n",
              "0                    Unspecified                            NaN   \n",
              "1                            NaN                            NaN   \n",
              "2                    Unspecified                            NaN   \n",
              "3                            NaN                            NaN   \n",
              "4                            NaN                            NaN   \n",
              "\n",
              "   CONTRIBUTING FACTOR VEHICLE 4  CONTRIBUTING FACTOR VEHICLE 5  COLLISION_ID  \\\n",
              "0                            NaN                            NaN       4455765   \n",
              "1                            NaN                            NaN       4513547   \n",
              "2                            NaN                            NaN       4541903   \n",
              "3                            NaN                            NaN       4456314   \n",
              "4                            NaN                            NaN       4486609   \n",
              "\n",
              "   VEHICLE TYPE CODE 1  VEHICLE TYPE CODE 2 VEHICLE TYPE CODE 3  \\\n",
              "0                Sedan                Sedan                 NaN   \n",
              "1                Sedan                  NaN                 NaN   \n",
              "2                Sedan        Pick-up Truck                 NaN   \n",
              "3                Sedan                  NaN                 NaN   \n",
              "4                  NaN                  NaN                 NaN   \n",
              "\n",
              "  VEHICLE TYPE CODE 4 VEHICLE TYPE CODE 5  \n",
              "0                 NaN                 NaN  \n",
              "1                 NaN                 NaN  \n",
              "2                 NaN                 NaN  \n",
              "3                 NaN                 NaN  \n",
              "4                 NaN                 NaN  \n",
              "\n",
              "[5 rows x 28 columns]"
            ],
            "text/html": [
              "\n",
              "  <div id=\"df-c25d658a-663d-44e1-9697-a328ebcb09a6\">\n",
              "    <div class=\"colab-df-container\">\n",
              "      <div>\n",
              "<style scoped>\n",
              "    .dataframe tbody tr th:only-of-type {\n",
              "        vertical-align: middle;\n",
              "    }\n",
              "\n",
              "    .dataframe tbody tr th {\n",
              "        vertical-align: top;\n",
              "    }\n",
              "\n",
              "    .dataframe thead th {\n",
              "        text-align: right;\n",
              "    }\n",
              "</style>\n",
              "<table border=\"1\" class=\"dataframe\">\n",
              "  <thead>\n",
              "    <tr style=\"text-align: right;\">\n",
              "      <th></th>\n",
              "      <th>CRASH DATE_CRASH TIME</th>\n",
              "      <th>BOROUGH</th>\n",
              "      <th>ZIP CODE</th>\n",
              "      <th>LATITUDE</th>\n",
              "      <th>LONGITUDE</th>\n",
              "      <th>LOCATION</th>\n",
              "      <th>ON STREET NAME</th>\n",
              "      <th>CROSS STREET NAME</th>\n",
              "      <th>OFF STREET NAME</th>\n",
              "      <th>NUMBER OF PERSONS INJURED</th>\n",
              "      <th>...</th>\n",
              "      <th>CONTRIBUTING FACTOR VEHICLE 2</th>\n",
              "      <th>CONTRIBUTING FACTOR VEHICLE 3</th>\n",
              "      <th>CONTRIBUTING FACTOR VEHICLE 4</th>\n",
              "      <th>CONTRIBUTING FACTOR VEHICLE 5</th>\n",
              "      <th>COLLISION_ID</th>\n",
              "      <th>VEHICLE TYPE CODE 1</th>\n",
              "      <th>VEHICLE TYPE CODE 2</th>\n",
              "      <th>VEHICLE TYPE CODE 3</th>\n",
              "      <th>VEHICLE TYPE CODE 4</th>\n",
              "      <th>VEHICLE TYPE CODE 5</th>\n",
              "    </tr>\n",
              "  </thead>\n",
              "  <tbody>\n",
              "    <tr>\n",
              "      <th>0</th>\n",
              "      <td>2021-09-11 02:39:00</td>\n",
              "      <td>NaN</td>\n",
              "      <td>NaN</td>\n",
              "      <td>NaN</td>\n",
              "      <td>NaN</td>\n",
              "      <td>NaN</td>\n",
              "      <td>WHITESTONE EXPRESSWAY</td>\n",
              "      <td>20 AVENUE</td>\n",
              "      <td>NaN</td>\n",
              "      <td>2.0</td>\n",
              "      <td>...</td>\n",
              "      <td>Unspecified</td>\n",
              "      <td>NaN</td>\n",
              "      <td>NaN</td>\n",
              "      <td>NaN</td>\n",
              "      <td>4455765</td>\n",
              "      <td>Sedan</td>\n",
              "      <td>Sedan</td>\n",
              "      <td>NaN</td>\n",
              "      <td>NaN</td>\n",
              "      <td>NaN</td>\n",
              "    </tr>\n",
              "    <tr>\n",
              "      <th>1</th>\n",
              "      <td>2022-03-26 11:45:00</td>\n",
              "      <td>NaN</td>\n",
              "      <td>NaN</td>\n",
              "      <td>NaN</td>\n",
              "      <td>NaN</td>\n",
              "      <td>NaN</td>\n",
              "      <td>QUEENSBORO BRIDGE UPPER</td>\n",
              "      <td>NaN</td>\n",
              "      <td>NaN</td>\n",
              "      <td>1.0</td>\n",
              "      <td>...</td>\n",
              "      <td>NaN</td>\n",
              "      <td>NaN</td>\n",
              "      <td>NaN</td>\n",
              "      <td>NaN</td>\n",
              "      <td>4513547</td>\n",
              "      <td>Sedan</td>\n",
              "      <td>NaN</td>\n",
              "      <td>NaN</td>\n",
              "      <td>NaN</td>\n",
              "      <td>NaN</td>\n",
              "    </tr>\n",
              "    <tr>\n",
              "      <th>2</th>\n",
              "      <td>2022-06-29 06:55:00</td>\n",
              "      <td>NaN</td>\n",
              "      <td>NaN</td>\n",
              "      <td>NaN</td>\n",
              "      <td>NaN</td>\n",
              "      <td>NaN</td>\n",
              "      <td>THROGS NECK BRIDGE</td>\n",
              "      <td>NaN</td>\n",
              "      <td>NaN</td>\n",
              "      <td>0.0</td>\n",
              "      <td>...</td>\n",
              "      <td>Unspecified</td>\n",
              "      <td>NaN</td>\n",
              "      <td>NaN</td>\n",
              "      <td>NaN</td>\n",
              "      <td>4541903</td>\n",
              "      <td>Sedan</td>\n",
              "      <td>Pick-up Truck</td>\n",
              "      <td>NaN</td>\n",
              "      <td>NaN</td>\n",
              "      <td>NaN</td>\n",
              "    </tr>\n",
              "    <tr>\n",
              "      <th>3</th>\n",
              "      <td>2021-09-11 09:35:00</td>\n",
              "      <td>BROOKLYN</td>\n",
              "      <td>11208</td>\n",
              "      <td>40.667202</td>\n",
              "      <td>-73.866500</td>\n",
              "      <td>(40.667202, -73.8665)</td>\n",
              "      <td>NaN</td>\n",
              "      <td>NaN</td>\n",
              "      <td>1211      LORING AVENUE</td>\n",
              "      <td>0.0</td>\n",
              "      <td>...</td>\n",
              "      <td>NaN</td>\n",
              "      <td>NaN</td>\n",
              "      <td>NaN</td>\n",
              "      <td>NaN</td>\n",
              "      <td>4456314</td>\n",
              "      <td>Sedan</td>\n",
              "      <td>NaN</td>\n",
              "      <td>NaN</td>\n",
              "      <td>NaN</td>\n",
              "      <td>NaN</td>\n",
              "    </tr>\n",
              "    <tr>\n",
              "      <th>4</th>\n",
              "      <td>2021-12-14 08:13:00</td>\n",
              "      <td>BROOKLYN</td>\n",
              "      <td>11233</td>\n",
              "      <td>40.683304</td>\n",
              "      <td>-73.917274</td>\n",
              "      <td>(40.683304, -73.917274)</td>\n",
              "      <td>SARATOGA AVENUE</td>\n",
              "      <td>DECATUR STREET</td>\n",
              "      <td>NaN</td>\n",
              "      <td>0.0</td>\n",
              "      <td>...</td>\n",
              "      <td>NaN</td>\n",
              "      <td>NaN</td>\n",
              "      <td>NaN</td>\n",
              "      <td>NaN</td>\n",
              "      <td>4486609</td>\n",
              "      <td>NaN</td>\n",
              "      <td>NaN</td>\n",
              "      <td>NaN</td>\n",
              "      <td>NaN</td>\n",
              "      <td>NaN</td>\n",
              "    </tr>\n",
              "  </tbody>\n",
              "</table>\n",
              "<p>5 rows × 28 columns</p>\n",
              "</div>\n",
              "      <button class=\"colab-df-convert\" onclick=\"convertToInteractive('df-c25d658a-663d-44e1-9697-a328ebcb09a6')\"\n",
              "              title=\"Convert this dataframe to an interactive table.\"\n",
              "              style=\"display:none;\">\n",
              "        \n",
              "  <svg xmlns=\"http://www.w3.org/2000/svg\" height=\"24px\"viewBox=\"0 0 24 24\"\n",
              "       width=\"24px\">\n",
              "    <path d=\"M0 0h24v24H0V0z\" fill=\"none\"/>\n",
              "    <path d=\"M18.56 5.44l.94 2.06.94-2.06 2.06-.94-2.06-.94-.94-2.06-.94 2.06-2.06.94zm-11 1L8.5 8.5l.94-2.06 2.06-.94-2.06-.94L8.5 2.5l-.94 2.06-2.06.94zm10 10l.94 2.06.94-2.06 2.06-.94-2.06-.94-.94-2.06-.94 2.06-2.06.94z\"/><path d=\"M17.41 7.96l-1.37-1.37c-.4-.4-.92-.59-1.43-.59-.52 0-1.04.2-1.43.59L10.3 9.45l-7.72 7.72c-.78.78-.78 2.05 0 2.83L4 21.41c.39.39.9.59 1.41.59.51 0 1.02-.2 1.41-.59l7.78-7.78 2.81-2.81c.8-.78.8-2.07 0-2.86zM5.41 20L4 18.59l7.72-7.72 1.47 1.35L5.41 20z\"/>\n",
              "  </svg>\n",
              "      </button>\n",
              "      \n",
              "  <style>\n",
              "    .colab-df-container {\n",
              "      display:flex;\n",
              "      flex-wrap:wrap;\n",
              "      gap: 12px;\n",
              "    }\n",
              "\n",
              "    .colab-df-convert {\n",
              "      background-color: #E8F0FE;\n",
              "      border: none;\n",
              "      border-radius: 50%;\n",
              "      cursor: pointer;\n",
              "      display: none;\n",
              "      fill: #1967D2;\n",
              "      height: 32px;\n",
              "      padding: 0 0 0 0;\n",
              "      width: 32px;\n",
              "    }\n",
              "\n",
              "    .colab-df-convert:hover {\n",
              "      background-color: #E2EBFA;\n",
              "      box-shadow: 0px 1px 2px rgba(60, 64, 67, 0.3), 0px 1px 3px 1px rgba(60, 64, 67, 0.15);\n",
              "      fill: #174EA6;\n",
              "    }\n",
              "\n",
              "    [theme=dark] .colab-df-convert {\n",
              "      background-color: #3B4455;\n",
              "      fill: #D2E3FC;\n",
              "    }\n",
              "\n",
              "    [theme=dark] .colab-df-convert:hover {\n",
              "      background-color: #434B5C;\n",
              "      box-shadow: 0px 1px 3px 1px rgba(0, 0, 0, 0.15);\n",
              "      filter: drop-shadow(0px 1px 2px rgba(0, 0, 0, 0.3));\n",
              "      fill: #FFFFFF;\n",
              "    }\n",
              "  </style>\n",
              "\n",
              "      <script>\n",
              "        const buttonEl =\n",
              "          document.querySelector('#df-c25d658a-663d-44e1-9697-a328ebcb09a6 button.colab-df-convert');\n",
              "        buttonEl.style.display =\n",
              "          google.colab.kernel.accessAllowed ? 'block' : 'none';\n",
              "\n",
              "        async function convertToInteractive(key) {\n",
              "          const element = document.querySelector('#df-c25d658a-663d-44e1-9697-a328ebcb09a6');\n",
              "          const dataTable =\n",
              "            await google.colab.kernel.invokeFunction('convertToInteractive',\n",
              "                                                     [key], {});\n",
              "          if (!dataTable) return;\n",
              "\n",
              "          const docLinkHtml = 'Like what you see? Visit the ' +\n",
              "            '<a target=\"_blank\" href=https://colab.research.google.com/notebooks/data_table.ipynb>data table notebook</a>'\n",
              "            + ' to learn more about interactive tables.';\n",
              "          element.innerHTML = '';\n",
              "          dataTable['output_type'] = 'display_data';\n",
              "          await google.colab.output.renderOutput(dataTable, element);\n",
              "          const docLink = document.createElement('div');\n",
              "          docLink.innerHTML = docLinkHtml;\n",
              "          element.appendChild(docLink);\n",
              "        }\n",
              "      </script>\n",
              "    </div>\n",
              "  </div>\n",
              "  "
            ]
          },
          "metadata": {},
          "execution_count": 11
        }
      ]
    },
    {
      "cell_type": "code",
      "source": [
        "df.columns"
      ],
      "metadata": {
        "colab": {
          "base_uri": "https://localhost:8080/"
        },
        "id": "_1HDfW0lnB3D",
        "outputId": "adbd5bf7-695f-483a-e9ee-aa09fb5a9ba3"
      },
      "execution_count": 42,
      "outputs": [
        {
          "output_type": "execute_result",
          "data": {
            "text/plain": [
              "Index(['TIME', 'BOROUGH', 'ZIP CODE', 'LATITUDE', 'LONGITUDE', 'LOCATION',\n",
              "       'ON STREET NAME', 'CROSS STREET NAME', 'OFF STREET NAME',\n",
              "       'NUMBER OF PERSONS INJURED', 'NUMBER OF PERSONS KILLED',\n",
              "       'NUMBER OF PEDESTRIANS INJURED', 'NUMBER OF PEDESTRIANS KILLED',\n",
              "       'NUMBER OF CYCLIST INJURED', 'NUMBER OF CYCLIST KILLED',\n",
              "       'NUMBER OF MOTORIST INJURED', 'NUMBER OF MOTORIST KILLED',\n",
              "       'CONTRIBUTING FACTOR VEHICLE 1', 'CONTRIBUTING FACTOR VEHICLE 2',\n",
              "       'CONTRIBUTING FACTOR VEHICLE 3', 'CONTRIBUTING FACTOR VEHICLE 4',\n",
              "       'CONTRIBUTING FACTOR VEHICLE 5', 'COLLISION_ID', 'VEHICLE TYPE CODE 1',\n",
              "       'VEHICLE TYPE CODE 2', 'VEHICLE TYPE CODE 3', 'VEHICLE TYPE CODE 4',\n",
              "       'VEHICLE TYPE CODE 5'],\n",
              "      dtype='object')"
            ]
          },
          "metadata": {},
          "execution_count": 42
        }
      ]
    },
    {
      "cell_type": "code",
      "source": [
        "df.BOROUGH.hist()"
      ],
      "metadata": {
        "id": "Y6OJWwqfQadj",
        "colab": {
          "base_uri": "https://localhost:8080/",
          "height": 283
        },
        "outputId": "c1da2686-46ae-40fb-a832-8a28dc8fe052"
      },
      "execution_count": 43,
      "outputs": [
        {
          "output_type": "execute_result",
          "data": {
            "text/plain": [
              "<matplotlib.axes._subplots.AxesSubplot at 0x7f7d33ee0090>"
            ]
          },
          "metadata": {},
          "execution_count": 43
        },
        {
          "output_type": "display_data",
          "data": {
            "text/plain": [
              "<Figure size 432x288 with 1 Axes>"
            ],
            "image/png": "[encoded data removed]"
          },
          "metadata": {
            "needs_background": "light"
          }
        }
      ]
    },
    {
      "cell_type": "code",
      "source": [
        "#df['ZIP CODE'] = df['ZIP CODE'].apply(lambda x : str(x))\n",
        "df['ZIP CODE'].hist()"
      ],
      "metadata": {
        "colab": {
          "base_uri": "https://localhost:8080/",
          "height": 283
        },
        "id": "MKvk8Lc-mXDE",
        "outputId": "97130d6b-a5bb-4552-be31-695060173dc5"
      },
      "execution_count": 44,
      "outputs": [
        {
          "output_type": "execute_result",
          "data": {
            "text/plain": [
              "<matplotlib.axes._subplots.AxesSubplot at 0x7f7d21a4db50>"
            ]
          },
          "metadata": {},
          "execution_count": 44
        },
        {
          "output_type": "display_data",
          "data": {
            "text/plain": [
              "<Figure size 432x288 with 1 Axes>"
            ],
            "image/png": "[encoded data removed]"
          },
          "metadata": {
            "needs_background": "light"
          }
        }
      ]
    },
    {
      "cell_type": "code",
      "source": [
        "df['VEHICLE TYPE CODE 1'].value_counts()"
      ],
      "metadata": {
        "colab": {
          "base_uri": "https://localhost:8080/"
        },
        "id": "ReLVpsQ_mgqy",
        "outputId": "5e46f1c3-ab68-44e4-f2ac-c54c6bff66cb"
      },
      "execution_count": 46,
      "outputs": [
        {
          "output_type": "execute_result",
          "data": {
            "text/plain": [
              "Sedan                                  518376\n",
              "PASSENGER VEHICLE                      416206\n",
              "Station Wagon/Sport Utility Vehicle    409488\n",
              "SPORT UTILITY / STATION WAGON          180291\n",
              "Taxi                                    48162\n",
              "                                        ...  \n",
              "SUBN WHI                                    1\n",
              "E bike                                      1\n",
              "FDNY Fire                                   1\n",
              "CARGO VAN                                   1\n",
              "Delivery T                                  1\n",
              "Name: VEHICLE TYPE CODE 1, Length: 1450, dtype: int64"
            ]
          },
          "metadata": {},
          "execution_count": 46
        }
      ]
    },
    {
      "cell_type": "code",
      "source": [
        "df.notna().sum()"
      ],
      "metadata": {
        "colab": {
          "base_uri": "https://localhost:8080/"
        },
        "id": "TmvtkPM1m9ig",
        "outputId": "75ebc204-66fc-48f4-f618-66eef2ce12b8"
      },
      "execution_count": null,
      "outputs": [
        {
          "output_type": "execute_result",
          "data": {
            "text/plain": [
              "CRASH DATE                       1947735\n",
              "CRASH TIME                       1947735\n",
              "BOROUGH                          1342942\n",
              "ZIP CODE                         1947735\n",
              "LATITUDE                         1723459\n",
              "LONGITUDE                        1723459\n",
              "LOCATION                         1723459\n",
              "ON STREET NAME                   1542359\n",
              "CROSS STREET NAME                1229033\n",
              "OFF STREET NAME                   313005\n",
              "NUMBER OF PERSONS INJURED        1947717\n",
              "NUMBER OF PERSONS KILLED         1947704\n",
              "NUMBER OF PEDESTRIANS INJURED    1947735\n",
              "NUMBER OF PEDESTRIANS KILLED     1947735\n",
              "NUMBER OF CYCLIST INJURED        1947735\n",
              "NUMBER OF CYCLIST KILLED         1947735\n",
              "NUMBER OF MOTORIST INJURED       1947735\n",
              "NUMBER OF MOTORIST KILLED        1947735\n",
              "CONTRIBUTING FACTOR VEHICLE 1    1941832\n",
              "CONTRIBUTING FACTOR VEHICLE 2    1656251\n",
              "CONTRIBUTING FACTOR VEHICLE 3     136496\n",
              "CONTRIBUTING FACTOR VEHICLE 4      30344\n",
              "CONTRIBUTING FACTOR VEHICLE 5       8134\n",
              "COLLISION_ID                     1947735\n",
              "VEHICLE TYPE CODE 1              1936184\n",
              "VEHICLE TYPE CODE 2              1594505\n",
              "VEHICLE TYPE CODE 3               131984\n",
              "VEHICLE TYPE CODE 4                29366\n",
              "VEHICLE TYPE CODE 5                 7897\n",
              "dtype: int64"
            ]
          },
          "metadata": {},
          "execution_count": 16
        }
      ]
    },
    {
      "cell_type": "code",
      "source": [
        "df.dtypes"
      ],
      "metadata": {
        "colab": {
          "base_uri": "https://localhost:8080/"
        },
        "id": "DLeGC4_vsw2P",
        "outputId": "11b115f9-749a-467b-b92a-6abe76699db7"
      },
      "execution_count": null,
      "outputs": [
        {
          "output_type": "execute_result",
          "data": {
            "text/plain": [
              "CRASH DATE_CRASH TIME            datetime64[ns]\n",
              "BOROUGH                                  object\n",
              "ZIP CODE                                 object\n",
              "LATITUDE                                float64\n",
              "LONGITUDE                               float64\n",
              "LOCATION                                 object\n",
              "ON STREET NAME                           object\n",
              "CROSS STREET NAME                        object\n",
              "OFF STREET NAME                          object\n",
              "NUMBER OF PERSONS INJURED               float64\n",
              "NUMBER OF PERSONS KILLED                float64\n",
              "NUMBER OF PEDESTRIANS INJURED             int64\n",
              "NUMBER OF PEDESTRIANS KILLED              int64\n",
              "NUMBER OF CYCLIST INJURED                 int64\n",
              "NUMBER OF CYCLIST KILLED                  int64\n",
              "NUMBER OF MOTORIST INJURED                int64\n",
              "NUMBER OF MOTORIST KILLED                 int64\n",
              "CONTRIBUTING FACTOR VEHICLE 1            object\n",
              "CONTRIBUTING FACTOR VEHICLE 2            object\n",
              "CONTRIBUTING FACTOR VEHICLE 3            object\n",
              "CONTRIBUTING FACTOR VEHICLE 4            object\n",
              "CONTRIBUTING FACTOR VEHICLE 5            object\n",
              "COLLISION_ID                              int64\n",
              "VEHICLE TYPE CODE 1                      object\n",
              "VEHICLE TYPE CODE 2                      object\n",
              "VEHICLE TYPE CODE 3                      object\n",
              "VEHICLE TYPE CODE 4                      object\n",
              "VEHICLE TYPE CODE 5                      object\n",
              "dtype: object"
            ]
          },
          "metadata": {},
          "execution_count": 28
        }
      ]
    },
    {
      "cell_type": "code",
      "source": [
        "df['CONTRIBUTING FACTOR VEHICLE 1'].value_counts()"
      ],
      "metadata": {
        "colab": {
          "base_uri": "https://localhost:8080/"
        },
        "id": "H90cXAjosx4l",
        "outputId": "7640b4aa-4071-44e2-a47f-179558d527d9"
      },
      "execution_count": 36,
      "outputs": [
        {
          "output_type": "execute_result",
          "data": {
            "text/plain": [
              "Unspecified                       676330\n",
              "Driver Inattention/Distraction    383735\n",
              "Failure to Yield Right-of-Way     114419\n",
              "Following Too Closely             103004\n",
              "Backing Unsafely                   72905\n",
              "                                   ...  \n",
              "Cell Phone (hand-held)                79\n",
              "Windshield Inadequate                 74\n",
              "Texting                               46\n",
              "Listening/Using Headphones            24\n",
              "1                                     10\n",
              "Name: CONTRIBUTING FACTOR VEHICLE 1, Length: 61, dtype: int64"
            ]
          },
          "metadata": {},
          "execution_count": 36
        }
      ]
    },
    {
      "cell_type": "code",
      "source": [
        "df['CONTRIBUTING FACTOR VEHICLE 2'].value_counts()"
      ],
      "metadata": {
        "id": "hbvlja4ov3Tz",
        "outputId": "dbc059bd-3229-4623-f0e4-2320fca79517",
        "colab": {
          "base_uri": "https://localhost:8080/"
        }
      },
      "execution_count": 37,
      "outputs": [
        {
          "output_type": "execute_result",
          "data": {
            "text/plain": [
              "Unspecified                       1394890\n",
              "Driver Inattention/Distraction      88591\n",
              "Other Vehicular                     30542\n",
              "Following Too Closely               17515\n",
              "Failure to Yield Right-of-Way       16319\n",
              "                                   ...   \n",
              "Listening/Using Headphones             10\n",
              "Eating or Drinking                      9\n",
              "Windshield Inadequate                   7\n",
              "1                                       5\n",
              "Texting                                 3\n",
              "Name: CONTRIBUTING FACTOR VEHICLE 2, Length: 61, dtype: int64"
            ]
          },
          "metadata": {},
          "execution_count": 37
        }
      ]
    },
    {
      "cell_type": "code",
      "source": [
        "df['CONTRIBUTING FACTOR VEHICLE 3'].value_counts()"
      ],
      "metadata": {
        "id": "9GW16AxoL3c9",
        "outputId": "7de5d285-7ca8-407e-e1d6-88ecd8971a0f",
        "colab": {
          "base_uri": "https://localhost:8080/"
        }
      },
      "execution_count": 38,
      "outputs": [
        {
          "output_type": "execute_result",
          "data": {
            "text/plain": [
              "Unspecified                                              127310\n",
              "Other Vehicular                                            2530\n",
              "Driver Inattention/Distraction                             1804\n",
              "Following Too Closely                                      1744\n",
              "Fatigued/Drowsy                                             853\n",
              "Pavement Slippery                                           371\n",
              "Reaction to Uninvolved Vehicle                              195\n",
              "Driver Inexperience                                         169\n",
              "Outside Car Distraction                                     159\n",
              "Traffic Control Disregarded                                 150\n",
              "Failure to Yield Right-of-Way                               140\n",
              "Unsafe Speed                                                132\n",
              "Passing or Lane Usage Improper                               96\n",
              "Alcohol Involvement                                          95\n",
              "Backing Unsafely                                             92\n",
              "Turning Improperly                                           74\n",
              "Unsafe Lane Changing                                         65\n",
              "Obstruction/Debris                                           64\n",
              "Fell Asleep                                                  58\n",
              "Passing Too Closely                                          46\n",
              "Aggressive Driving/Road Rage                                 41\n",
              "View Obstructed/Limited                                      40\n",
              "Other Electronic Device                                      38\n",
              "Lost Consciousness                                           36\n",
              "Brakes Defective                                             31\n",
              "Failure to Keep Right                                        28\n",
              "Pedestrian/Bicyclist/Other Pedestrian Error/Confusion        28\n",
              "Physical Disability                                          23\n",
              "Prescription Medication                                      21\n",
              "Passenger Distraction                                        17\n",
              "Traffic Control Device Improper/Non-Working                  14\n",
              "Glare                                                        14\n",
              "Oversized Vehicle                                            14\n",
              "Pavement Defective                                           14\n",
              "Driverless/Runaway Vehicle                                   10\n",
              "Tire Failure/Inadequate                                       8\n",
              "Illness                                                       7\n",
              "Drugs (Illegal)                                               6\n",
              "Accelerator Defective                                         4\n",
              "Animals Action                                                4\n",
              "80                                                            3\n",
              "Lane Marking Improper/Inadequate                              3\n",
              "Drugs (illegal)                                               3\n",
              "Steering Failure                                              3\n",
              "Cell Phone (hands-free)                                       2\n",
              "Reaction to Other Uninvolved Vehicle                          2\n",
              "Eating or Drinking                                            1\n",
              "Cell Phone (hand-Held)                                        1\n",
              "1                                                             1\n",
              "Tinted Windows                                                1\n",
              "Illnes                                                        1\n",
              "Name: CONTRIBUTING FACTOR VEHICLE 3, dtype: int64"
            ]
          },
          "metadata": {},
          "execution_count": 38
        }
      ]
    },
    {
      "cell_type": "code",
      "source": [
        "df['CONTRIBUTING FACTOR VEHICLE 3'].value_counts()"
      ],
      "metadata": {
        "id": "T9XX-BA4L8Sg",
        "outputId": "5fadfc60-d786-4d79-97dd-2f1e47b39cb0",
        "colab": {
          "base_uri": "https://localhost:8080/"
        }
      },
      "execution_count": 39,
      "outputs": [
        {
          "output_type": "execute_result",
          "data": {
            "text/plain": [
              "Unspecified                                              127310\n",
              "Other Vehicular                                            2530\n",
              "Driver Inattention/Distraction                             1804\n",
              "Following Too Closely                                      1744\n",
              "Fatigued/Drowsy                                             853\n",
              "Pavement Slippery                                           371\n",
              "Reaction to Uninvolved Vehicle                              195\n",
              "Driver Inexperience                                         169\n",
              "Outside Car Distraction                                     159\n",
              "Traffic Control Disregarded                                 150\n",
              "Failure to Yield Right-of-Way                               140\n",
              "Unsafe Speed                                                132\n",
              "Passing or Lane Usage Improper                               96\n",
              "Alcohol Involvement                                          95\n",
              "Backing Unsafely                                             92\n",
              "Turning Improperly                                           74\n",
              "Unsafe Lane Changing                                         65\n",
              "Obstruction/Debris                                           64\n",
              "Fell Asleep                                                  58\n",
              "Passing Too Closely                                          46\n",
              "Aggressive Driving/Road Rage                                 41\n",
              "View Obstructed/Limited                                      40\n",
              "Other Electronic Device                                      38\n",
              "Lost Consciousness                                           36\n",
              "Brakes Defective                                             31\n",
              "Failure to Keep Right                                        28\n",
              "Pedestrian/Bicyclist/Other Pedestrian Error/Confusion        28\n",
              "Physical Disability                                          23\n",
              "Prescription Medication                                      21\n",
              "Passenger Distraction                                        17\n",
              "Traffic Control Device Improper/Non-Working                  14\n",
              "Glare                                                        14\n",
              "Oversized Vehicle                                            14\n",
              "Pavement Defective                                           14\n",
              "Driverless/Runaway Vehicle                                   10\n",
              "Tire Failure/Inadequate                                       8\n",
              "Illness                                                       7\n",
              "Drugs (Illegal)                                               6\n",
              "Accelerator Defective                                         4\n",
              "Animals Action                                                4\n",
              "80                                                            3\n",
              "Lane Marking Improper/Inadequate                              3\n",
              "Drugs (illegal)                                               3\n",
              "Steering Failure                                              3\n",
              "Cell Phone (hands-free)                                       2\n",
              "Reaction to Other Uninvolved Vehicle                          2\n",
              "Eating or Drinking                                            1\n",
              "Cell Phone (hand-Held)                                        1\n",
              "1                                                             1\n",
              "Tinted Windows                                                1\n",
              "Illnes                                                        1\n",
              "Name: CONTRIBUTING FACTOR VEHICLE 3, dtype: int64"
            ]
          },
          "metadata": {},
          "execution_count": 39
        }
      ]
    },
    {
      "cell_type": "code",
      "source": [
        "df['CONTRIBUTING FACTOR VEHICLE 4'].value_counts()"
      ],
      "metadata": {
        "id": "nfKuSF9zMCyg",
        "outputId": "d8b2d9b7-1a59-4c64-81de-dbe36d0ef1f6",
        "colab": {
          "base_uri": "https://localhost:8080/"
        }
      },
      "execution_count": 40,
      "outputs": [
        {
          "output_type": "execute_result",
          "data": {
            "text/plain": [
              "Unspecified                                    28665\n",
              "Other Vehicular                                  539\n",
              "Following Too Closely                            340\n",
              "Driver Inattention/Distraction                   248\n",
              "Fatigued/Drowsy                                  170\n",
              "Pavement Slippery                                106\n",
              "Reaction to Uninvolved Vehicle                    38\n",
              "Outside Car Distraction                           27\n",
              "Unsafe Speed                                      26\n",
              "Driver Inexperience                               24\n",
              "Traffic Control Disregarded                       22\n",
              "Fell Asleep                                       19\n",
              "Alcohol Involvement                               19\n",
              "Obstruction/Debris                                18\n",
              "Failure to Yield Right-of-Way                     16\n",
              "Passing or Lane Usage Improper                     9\n",
              "Backing Unsafely                                   9\n",
              "Other Electronic Device                            9\n",
              "Brakes Defective                                   7\n",
              "Failure to Keep Right                              7\n",
              "Aggressive Driving/Road Rage                       6\n",
              "Passing Too Closely                                5\n",
              "Unsafe Lane Changing                               5\n",
              "Turning Improperly                                 4\n",
              "View Obstructed/Limited                            3\n",
              "Prescription Medication                            3\n",
              "Physical Disability                                3\n",
              "Pavement Defective                                 3\n",
              "Driverless/Runaway Vehicle                         2\n",
              "Drugs (illegal)                                    2\n",
              "Drugs (Illegal)                                    2\n",
              "Illness                                            2\n",
              "Lost Consciousness                                 2\n",
              "Traffic Control Device Improper/Non-Working        2\n",
              "Accelerator Defective                              1\n",
              "Glare                                              1\n",
              "Animals Action                                     1\n",
              "Steering Failure                                   1\n",
              "Windshield Inadequate                              1\n",
              "Tire Failure/Inadequate                            1\n",
              "Name: CONTRIBUTING FACTOR VEHICLE 4, dtype: int64"
            ]
          },
          "metadata": {},
          "execution_count": 40
        }
      ]
    },
    {
      "cell_type": "code",
      "source": [
        "df['CONTRIBUTING FACTOR VEHICLE 5'].value_counts()"
      ],
      "metadata": {
        "id": "1pFnOdMWMF3G",
        "outputId": "65d50f75-50e6-48b9-a433-d67c823629f5",
        "colab": {
          "base_uri": "https://localhost:8080/"
        }
      },
      "execution_count": 41,
      "outputs": [
        {
          "output_type": "execute_result",
          "data": {
            "text/plain": [
              "Unspecified                                    7678\n",
              "Other Vehicular                                 158\n",
              "Following Too Closely                            81\n",
              "Driver Inattention/Distraction                   59\n",
              "Pavement Slippery                                44\n",
              "Fatigued/Drowsy                                  41\n",
              "Reaction to Uninvolved Vehicle                   11\n",
              "Alcohol Involvement                              10\n",
              "Driver Inexperience                               9\n",
              "Unsafe Speed                                      7\n",
              "Obstruction/Debris                                7\n",
              "Outside Car Distraction                           7\n",
              "Failure to Yield Right-of-Way                     5\n",
              "Fell Asleep                                       3\n",
              "Traffic Control Disregarded                       3\n",
              "Drugs (illegal)                                   2\n",
              "Failure to Keep Right                             2\n",
              "Passing Too Closely                               2\n",
              "Other Electronic Device                           2\n",
              "Brakes Defective                                  1\n",
              "Backing Unsafely                                  1\n",
              "Steering Failure                                  1\n",
              "Glare                                             1\n",
              "Aggressive Driving/Road Rage                      1\n",
              "Illness                                           1\n",
              "Passing or Lane Usage Improper                    1\n",
              "Tire Failure/Inadequate                           1\n",
              "Pavement Defective                                1\n",
              "Traffic Control Device Improper/Non-Working       1\n",
              "Name: CONTRIBUTING FACTOR VEHICLE 5, dtype: int64"
            ]
          },
          "metadata": {},
          "execution_count": 41
        }
      ]
    },
    {
      "cell_type": "code",
      "source": [],
      "metadata": {
        "id": "7OHBpxxQMH_m"
      },
      "execution_count": null,
      "outputs": []
    }
  ]
}