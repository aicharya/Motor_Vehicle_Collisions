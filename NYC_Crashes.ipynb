{
 "cells": [
  {
   "cell_type": "markdown",
   "id": "8dbe4bc6",
   "metadata": {},
   "source": [
    "### New York City Crash Analysis"
   ]
  },
  {
   "cell_type": "markdown",
   "id": "0feb3483",
   "metadata": {},
   "source": [
    "##### Import pandas, plotly and matplotlib"
   ]
  },
  {
   "cell_type": "code",
   "execution_count": 24,
   "id": "84e8933e",
   "metadata": {},
   "outputs": [],
   "source": [
    "import pandas as pd\n",
    "import plotly.express as px\n",
    "\n",
    "import matplotlib.pyplot as plt\n",
    "%matplotlib inline"
   ]
  },
  {
   "cell_type": "markdown",
   "id": "3403dc77",
   "metadata": {},
   "source": [
    "#### Load Crash data"
   ]
  },
  {
   "cell_type": "code",
   "execution_count": 25,
   "id": "0d3cec5d",
   "metadata": {},
   "outputs": [],
   "source": [
    "columnDataTypes = { 'ON STREET NAME' : 'str', } \n",
    "\n",
    "dateOpts = { 'DATETIME' : [0, 1]}\n",
    "\n",
    "columnsToRead = ['CRASH DATE', 'CRASH TIME', 'LATITUDE', 'LONGITUDE', 'ON STREET NAME', \n",
    "                 'NUMBER OF PERSONS INJURED', 'NUMBER OF PERSONS KILLED',\n",
    "                 'NUMBER OF PEDESTRIANS INJURED', 'NUMBER OF PEDESTRIANS KILLED',\n",
    "                 'NUMBER OF CYCLIST INJURED', 'NUMBER OF CYCLIST KILLED',\n",
    "                 'NUMBER OF MOTORIST INJURED', 'NUMBER OF MOTORIST KILLED',]\n",
    "# 'VEHICLE TYPE CODE 1', 'VEHICLE TYPE CODE 2']\n",
    "\n",
    "df1 = pd.read_csv('crashes.csv', \n",
    "                  dtype = columnDataTypes, \n",
    "                  parse_dates = dateOpts, \n",
    "                  infer_datetime_format = True,\n",
    "                  usecols = columnsToRead )"
   ]
  },
  {
   "cell_type": "markdown",
   "id": "fbf24c9a",
   "metadata": {},
   "source": [
    "#### Drop data before 2018"
   ]
  },
  {
   "cell_type": "code",
   "execution_count": 26,
   "id": "37a56a36",
   "metadata": {},
   "outputs": [],
   "source": [
    "df1.set_index(['DATETIME'], inplace=True)"
   ]
  },
  {
   "cell_type": "code",
   "execution_count": 27,
   "id": "c6743902",
   "metadata": {},
   "outputs": [
    {
     "data": {
      "text/plain": [
       "(1948483, 11)"
      ]
     },
     "execution_count": 27,
     "metadata": {},
     "output_type": "execute_result"
    }
   ],
   "source": [
    "df1.shape"
   ]
  },
  {
   "cell_type": "code",
   "execution_count": 28,
   "id": "20bb95a9",
   "metadata": {},
   "outputs": [
    {
     "data": {
      "text/plain": [
       "Index(['LATITUDE', 'LONGITUDE', 'ON STREET NAME', 'NUMBER OF PERSONS INJURED',\n",
       "       'NUMBER OF PERSONS KILLED', 'NUMBER OF PEDESTRIANS INJURED',\n",
       "       'NUMBER OF PEDESTRIANS KILLED', 'NUMBER OF CYCLIST INJURED',\n",
       "       'NUMBER OF CYCLIST KILLED', 'NUMBER OF MOTORIST INJURED',\n",
       "       'NUMBER OF MOTORIST KILLED'],\n",
       "      dtype='object')"
      ]
     },
     "execution_count": 28,
     "metadata": {},
     "output_type": "execute_result"
    }
   ],
   "source": [
    "df1.columns"
   ]
  },
  {
   "cell_type": "code",
   "execution_count": 29,
   "id": "5ba425e1",
   "metadata": {},
   "outputs": [
    {
     "data": {
      "text/plain": [
       "(759639, 11)"
      ]
     },
     "execution_count": 29,
     "metadata": {},
     "output_type": "execute_result"
    }
   ],
   "source": [
    "df1.drop( axis = 0, index = df1[:\"12/31/2017\"].index, inplace = True)\n",
    "df1.shape"
   ]
  },
  {
   "cell_type": "code",
   "execution_count": 30,
   "id": "ed07f1dd",
   "metadata": {},
   "outputs": [],
   "source": [
    "df2 = df1[ (df1.LATITUDE > 40.4) & (df1.LATITUDE < 41.0) & df1.LATITUDE.notna() ]"
   ]
  },
  {
   "cell_type": "code",
   "execution_count": 31,
   "id": "f3d8da22",
   "metadata": {},
   "outputs": [
    {
     "data": {
      "text/plain": [
       "(698065, 11)"
      ]
     },
     "execution_count": 31,
     "metadata": {},
     "output_type": "execute_result"
    }
   ],
   "source": [
    "df2.shape"
   ]
  },
  {
   "cell_type": "code",
   "execution_count": 32,
   "id": "39dee659",
   "metadata": {},
   "outputs": [],
   "source": [
    "df3 = df2[(df2.LONGITUDE > -74.4) & (df2.LONGITUDE < -73.6) & df2.LONGITUDE.notna() ]"
   ]
  },
  {
   "cell_type": "code",
   "execution_count": 33,
   "id": "0105b11d",
   "metadata": {},
   "outputs": [
    {
     "data": {
      "text/plain": [
       "(698023, 11)"
      ]
     },
     "execution_count": 33,
     "metadata": {},
     "output_type": "execute_result"
    }
   ],
   "source": [
    "df3.shape"
   ]
  },
  {
   "cell_type": "code",
   "execution_count": 34,
   "id": "8ee231c6",
   "metadata": {},
   "outputs": [],
   "source": [
    "df4 = df3.dropna( axis = 0, subset = 'ON STREET NAME' )"
   ]
  },
  {
   "cell_type": "code",
   "execution_count": 35,
   "id": "04b2b83f",
   "metadata": {},
   "outputs": [
    {
     "data": {
      "text/plain": [
       "(513908, 11)"
      ]
     },
     "execution_count": 35,
     "metadata": {},
     "output_type": "execute_result"
    }
   ],
   "source": [
    "df4.shape"
   ]
  },
  {
   "cell_type": "code",
   "execution_count": 36,
   "id": "e4a12716",
   "metadata": {},
   "outputs": [
    {
     "data": {
      "text/plain": [
       "Index(['LATITUDE', 'LONGITUDE', 'ON STREET NAME', 'NUMBER OF PERSONS INJURED',\n",
       "       'NUMBER OF PERSONS KILLED', 'NUMBER OF PEDESTRIANS INJURED',\n",
       "       'NUMBER OF PEDESTRIANS KILLED', 'NUMBER OF CYCLIST INJURED',\n",
       "       'NUMBER OF CYCLIST KILLED', 'NUMBER OF MOTORIST INJURED',\n",
       "       'NUMBER OF MOTORIST KILLED'],\n",
       "      dtype='object')"
      ]
     },
     "execution_count": 36,
     "metadata": {},
     "output_type": "execute_result"
    }
   ],
   "source": [
    "df4.columns"
   ]
  },
  {
   "cell_type": "code",
   "execution_count": 37,
   "id": "e2aa26f7",
   "metadata": {},
   "outputs": [
    {
     "data": {
      "text/plain": [
       "Index(['DATETIME', 'LATITUDE', 'LONGITUDE', 'ON STREET NAME',\n",
       "       'NUMBER OF PERSONS INJURED', 'NUMBER OF PERSONS KILLED',\n",
       "       'NUMBER OF PEDESTRIANS INJURED', 'NUMBER OF PEDESTRIANS KILLED',\n",
       "       'NUMBER OF CYCLIST INJURED', 'NUMBER OF CYCLIST KILLED',\n",
       "       'NUMBER OF MOTORIST INJURED', 'NUMBER OF MOTORIST KILLED'],\n",
       "      dtype='object')"
      ]
     },
     "execution_count": 37,
     "metadata": {},
     "output_type": "execute_result"
    }
   ],
   "source": [
    "df4.reset_index(inplace = True)\n",
    "df4.columns"
   ]
  },
  {
   "cell_type": "code",
   "execution_count": 38,
   "id": "524ddbe4",
   "metadata": {},
   "outputs": [],
   "source": [
    "df4.insert( loc = 1, column = 'Week',  value = df4['DATETIME'].dt.isocalendar().week )"
   ]
  },
  {
   "cell_type": "code",
   "execution_count": 39,
   "id": "ef883112",
   "metadata": {},
   "outputs": [],
   "source": [
    "df4.insert( loc = 1, column = 'Weekday', value  = df4['DATETIME'].dt.weekday )"
   ]
  },
  {
   "cell_type": "code",
   "execution_count": 40,
   "id": "d768b766",
   "metadata": {},
   "outputs": [],
   "source": [
    "#df4.insert( loc = 1, column = 'Year', value = df4['DATETIME'].dt.year )"
   ]
  },
  {
   "cell_type": "code",
   "execution_count": 53,
   "id": "266119cd",
   "metadata": {},
   "outputs": [
    {
     "data": {
      "text/html": [
       "<div>\n",
       "<style scoped>\n",
       "    .dataframe tbody tr th:only-of-type {\n",
       "        vertical-align: middle;\n",
       "    }\n",
       "\n",
       "    .dataframe tbody tr th {\n",
       "        vertical-align: top;\n",
       "    }\n",
       "\n",
       "    .dataframe thead th {\n",
       "        text-align: right;\n",
       "    }\n",
       "</style>\n",
       "<table border=\"1\" class=\"dataframe\">\n",
       "  <thead>\n",
       "    <tr style=\"text-align: right;\">\n",
       "      <th></th>\n",
       "      <th>DATETIME</th>\n",
       "      <th>Weekday</th>\n",
       "      <th>Week</th>\n",
       "      <th>LATITUDE</th>\n",
       "      <th>LONGITUDE</th>\n",
       "      <th>ON STREET NAME</th>\n",
       "      <th>NUMBER OF PERSONS INJURED</th>\n",
       "      <th>NUMBER OF PERSONS KILLED</th>\n",
       "      <th>NUMBER OF PEDESTRIANS INJURED</th>\n",
       "      <th>NUMBER OF PEDESTRIANS KILLED</th>\n",
       "      <th>NUMBER OF CYCLIST INJURED</th>\n",
       "      <th>NUMBER OF CYCLIST KILLED</th>\n",
       "      <th>NUMBER OF MOTORIST INJURED</th>\n",
       "      <th>NUMBER OF MOTORIST KILLED</th>\n",
       "    </tr>\n",
       "  </thead>\n",
       "  <tbody>\n",
       "    <tr>\n",
       "      <th>0</th>\n",
       "      <td>2021-12-14 08:13:00</td>\n",
       "      <td>1</td>\n",
       "      <td>50</td>\n",
       "      <td>40.683304</td>\n",
       "      <td>-73.917274</td>\n",
       "      <td>SARATOGA AVENUE</td>\n",
       "      <td>0.0</td>\n",
       "      <td>0.0</td>\n",
       "      <td>0</td>\n",
       "      <td>0</td>\n",
       "      <td>0</td>\n",
       "      <td>0</td>\n",
       "      <td>0</td>\n",
       "      <td>0</td>\n",
       "    </tr>\n",
       "    <tr>\n",
       "      <th>1</th>\n",
       "      <td>2021-12-14 17:05:00</td>\n",
       "      <td>1</td>\n",
       "      <td>50</td>\n",
       "      <td>40.709183</td>\n",
       "      <td>-73.956825</td>\n",
       "      <td>BROOKLYN QUEENS EXPRESSWAY</td>\n",
       "      <td>0.0</td>\n",
       "      <td>0.0</td>\n",
       "      <td>0</td>\n",
       "      <td>0</td>\n",
       "      <td>0</td>\n",
       "      <td>0</td>\n",
       "      <td>0</td>\n",
       "      <td>0</td>\n",
       "    </tr>\n",
       "    <tr>\n",
       "      <th>2</th>\n",
       "      <td>2021-12-14 14:58:00</td>\n",
       "      <td>1</td>\n",
       "      <td>50</td>\n",
       "      <td>40.751440</td>\n",
       "      <td>-73.973970</td>\n",
       "      <td>3 AVENUE</td>\n",
       "      <td>0.0</td>\n",
       "      <td>0.0</td>\n",
       "      <td>0</td>\n",
       "      <td>0</td>\n",
       "      <td>0</td>\n",
       "      <td>0</td>\n",
       "      <td>0</td>\n",
       "      <td>0</td>\n",
       "    </tr>\n",
       "    <tr>\n",
       "      <th>3</th>\n",
       "      <td>2021-12-13 00:34:00</td>\n",
       "      <td>0</td>\n",
       "      <td>50</td>\n",
       "      <td>40.701275</td>\n",
       "      <td>-73.888870</td>\n",
       "      <td>MYRTLE AVENUE</td>\n",
       "      <td>0.0</td>\n",
       "      <td>0.0</td>\n",
       "      <td>0</td>\n",
       "      <td>0</td>\n",
       "      <td>0</td>\n",
       "      <td>0</td>\n",
       "      <td>0</td>\n",
       "      <td>0</td>\n",
       "    </tr>\n",
       "    <tr>\n",
       "      <th>4</th>\n",
       "      <td>2021-12-14 16:50:00</td>\n",
       "      <td>1</td>\n",
       "      <td>50</td>\n",
       "      <td>40.675884</td>\n",
       "      <td>-73.755770</td>\n",
       "      <td>SPRINGFIELD BOULEVARD</td>\n",
       "      <td>0.0</td>\n",
       "      <td>0.0</td>\n",
       "      <td>0</td>\n",
       "      <td>0</td>\n",
       "      <td>0</td>\n",
       "      <td>0</td>\n",
       "      <td>0</td>\n",
       "      <td>0</td>\n",
       "    </tr>\n",
       "    <tr>\n",
       "      <th>...</th>\n",
       "      <td>...</td>\n",
       "      <td>...</td>\n",
       "      <td>...</td>\n",
       "      <td>...</td>\n",
       "      <td>...</td>\n",
       "      <td>...</td>\n",
       "      <td>...</td>\n",
       "      <td>...</td>\n",
       "      <td>...</td>\n",
       "      <td>...</td>\n",
       "      <td>...</td>\n",
       "      <td>...</td>\n",
       "      <td>...</td>\n",
       "      <td>...</td>\n",
       "    </tr>\n",
       "    <tr>\n",
       "      <th>513903</th>\n",
       "      <td>2022-11-23 00:15:00</td>\n",
       "      <td>2</td>\n",
       "      <td>47</td>\n",
       "      <td>40.707947</td>\n",
       "      <td>-73.783310</td>\n",
       "      <td>178 STREET</td>\n",
       "      <td>1.0</td>\n",
       "      <td>0.0</td>\n",
       "      <td>0</td>\n",
       "      <td>0</td>\n",
       "      <td>0</td>\n",
       "      <td>0</td>\n",
       "      <td>1</td>\n",
       "      <td>0</td>\n",
       "    </tr>\n",
       "    <tr>\n",
       "      <th>513904</th>\n",
       "      <td>2022-11-10 16:50:00</td>\n",
       "      <td>3</td>\n",
       "      <td>45</td>\n",
       "      <td>40.694420</td>\n",
       "      <td>-73.931350</td>\n",
       "      <td>REID AVENUE</td>\n",
       "      <td>0.0</td>\n",
       "      <td>0.0</td>\n",
       "      <td>0</td>\n",
       "      <td>0</td>\n",
       "      <td>0</td>\n",
       "      <td>0</td>\n",
       "      <td>0</td>\n",
       "      <td>0</td>\n",
       "    </tr>\n",
       "    <tr>\n",
       "      <th>513905</th>\n",
       "      <td>2022-11-25 19:25:00</td>\n",
       "      <td>4</td>\n",
       "      <td>47</td>\n",
       "      <td>40.739080</td>\n",
       "      <td>-74.003090</td>\n",
       "      <td>WEST 13 STREET</td>\n",
       "      <td>0.0</td>\n",
       "      <td>0.0</td>\n",
       "      <td>0</td>\n",
       "      <td>0</td>\n",
       "      <td>0</td>\n",
       "      <td>0</td>\n",
       "      <td>0</td>\n",
       "      <td>0</td>\n",
       "    </tr>\n",
       "    <tr>\n",
       "      <th>513906</th>\n",
       "      <td>2022-11-24 17:30:00</td>\n",
       "      <td>3</td>\n",
       "      <td>47</td>\n",
       "      <td>40.829163</td>\n",
       "      <td>-73.937270</td>\n",
       "      <td>WEST 155 STREET</td>\n",
       "      <td>0.0</td>\n",
       "      <td>0.0</td>\n",
       "      <td>0</td>\n",
       "      <td>0</td>\n",
       "      <td>0</td>\n",
       "      <td>0</td>\n",
       "      <td>0</td>\n",
       "      <td>0</td>\n",
       "    </tr>\n",
       "    <tr>\n",
       "      <th>513907</th>\n",
       "      <td>2022-11-24 18:45:00</td>\n",
       "      <td>3</td>\n",
       "      <td>47</td>\n",
       "      <td>40.692150</td>\n",
       "      <td>-73.802470</td>\n",
       "      <td>LIVERPOOL STREET</td>\n",
       "      <td>0.0</td>\n",
       "      <td>0.0</td>\n",
       "      <td>0</td>\n",
       "      <td>0</td>\n",
       "      <td>0</td>\n",
       "      <td>0</td>\n",
       "      <td>0</td>\n",
       "      <td>0</td>\n",
       "    </tr>\n",
       "  </tbody>\n",
       "</table>\n",
       "<p>513908 rows × 14 columns</p>\n",
       "</div>"
      ],
      "text/plain": [
       "                  DATETIME  Weekday  Week   LATITUDE  LONGITUDE  \\\n",
       "0      2021-12-14 08:13:00        1    50  40.683304 -73.917274   \n",
       "1      2021-12-14 17:05:00        1    50  40.709183 -73.956825   \n",
       "2      2021-12-14 14:58:00        1    50  40.751440 -73.973970   \n",
       "3      2021-12-13 00:34:00        0    50  40.701275 -73.888870   \n",
       "4      2021-12-14 16:50:00        1    50  40.675884 -73.755770   \n",
       "...                    ...      ...   ...        ...        ...   \n",
       "513903 2022-11-23 00:15:00        2    47  40.707947 -73.783310   \n",
       "513904 2022-11-10 16:50:00        3    45  40.694420 -73.931350   \n",
       "513905 2022-11-25 19:25:00        4    47  40.739080 -74.003090   \n",
       "513906 2022-11-24 17:30:00        3    47  40.829163 -73.937270   \n",
       "513907 2022-11-24 18:45:00        3    47  40.692150 -73.802470   \n",
       "\n",
       "                    ON STREET NAME  NUMBER OF PERSONS INJURED  \\\n",
       "0                  SARATOGA AVENUE                        0.0   \n",
       "1       BROOKLYN QUEENS EXPRESSWAY                        0.0   \n",
       "2                         3 AVENUE                        0.0   \n",
       "3                    MYRTLE AVENUE                        0.0   \n",
       "4            SPRINGFIELD BOULEVARD                        0.0   \n",
       "...                            ...                        ...   \n",
       "513903                  178 STREET                        1.0   \n",
       "513904                 REID AVENUE                        0.0   \n",
       "513905              WEST 13 STREET                        0.0   \n",
       "513906             WEST 155 STREET                        0.0   \n",
       "513907            LIVERPOOL STREET                        0.0   \n",
       "\n",
       "        NUMBER OF PERSONS KILLED  NUMBER OF PEDESTRIANS INJURED  \\\n",
       "0                            0.0                              0   \n",
       "1                            0.0                              0   \n",
       "2                            0.0                              0   \n",
       "3                            0.0                              0   \n",
       "4                            0.0                              0   \n",
       "...                          ...                            ...   \n",
       "513903                       0.0                              0   \n",
       "513904                       0.0                              0   \n",
       "513905                       0.0                              0   \n",
       "513906                       0.0                              0   \n",
       "513907                       0.0                              0   \n",
       "\n",
       "        NUMBER OF PEDESTRIANS KILLED  NUMBER OF CYCLIST INJURED  \\\n",
       "0                                  0                          0   \n",
       "1                                  0                          0   \n",
       "2                                  0                          0   \n",
       "3                                  0                          0   \n",
       "4                                  0                          0   \n",
       "...                              ...                        ...   \n",
       "513903                             0                          0   \n",
       "513904                             0                          0   \n",
       "513905                             0                          0   \n",
       "513906                             0                          0   \n",
       "513907                             0                          0   \n",
       "\n",
       "        NUMBER OF CYCLIST KILLED  NUMBER OF MOTORIST INJURED  \\\n",
       "0                              0                           0   \n",
       "1                              0                           0   \n",
       "2                              0                           0   \n",
       "3                              0                           0   \n",
       "4                              0                           0   \n",
       "...                          ...                         ...   \n",
       "513903                         0                           1   \n",
       "513904                         0                           0   \n",
       "513905                         0                           0   \n",
       "513906                         0                           0   \n",
       "513907                         0                           0   \n",
       "\n",
       "        NUMBER OF MOTORIST KILLED  \n",
       "0                               0  \n",
       "1                               0  \n",
       "2                               0  \n",
       "3                               0  \n",
       "4                               0  \n",
       "...                           ...  \n",
       "513903                          0  \n",
       "513904                          0  \n",
       "513905                          0  \n",
       "513906                          0  \n",
       "513907                          0  \n",
       "\n",
       "[513908 rows x 14 columns]"
      ]
     },
     "execution_count": 53,
     "metadata": {},
     "output_type": "execute_result"
    }
   ],
   "source": [
    "df4"
   ]
  },
  {
   "cell_type": "code",
   "execution_count": 42,
   "id": "9e451fd9",
   "metadata": {},
   "outputs": [
    {
     "name": "stdout",
     "output_type": "stream",
     "text": [
      "DATETIME  -  datetime64\n",
      "Weekday  -  integer\n",
      "Week  -  integer\n",
      "LATITUDE  -  floating\n",
      "LONGITUDE  -  floating\n",
      "ON STREET NAME  -  string\n",
      "NUMBER OF PERSONS INJURED  -  floating\n",
      "NUMBER OF PERSONS KILLED  -  floating\n",
      "NUMBER OF PEDESTRIANS INJURED  -  integer\n",
      "NUMBER OF PEDESTRIANS KILLED  -  integer\n",
      "NUMBER OF CYCLIST INJURED  -  integer\n",
      "NUMBER OF CYCLIST KILLED  -  integer\n",
      "NUMBER OF MOTORIST INJURED  -  integer\n",
      "NUMBER OF MOTORIST KILLED  -  integer\n"
     ]
    }
   ],
   "source": [
    "for column in df4.columns:\n",
    "  print(column, \" - \", pd.api.types.infer_dtype( df4[column]) )"
   ]
  },
  {
   "cell_type": "code",
   "execution_count": 43,
   "id": "f70a17ca",
   "metadata": {},
   "outputs": [],
   "source": [
    "streets = df4[['LATITUDE', 'LONGITUDE', 'ON STREET NAME']].copy()\n",
    "#.drop_duplicates(subset = ['ON STREET NAME'], inplace=True)\n",
    "streets.drop_duplicates(subset = ['LATITUDE', 'LONGITUDE'], inplace=True)\n",
    "streets.to_csv('streets.csv', index=False)"
   ]
  },
  {
   "cell_type": "code",
   "execution_count": 46,
   "id": "5f166aca",
   "metadata": {},
   "outputs": [],
   "source": [
    "columnsToAggregate = [ 'NUMBER OF PERSONS INJURED', 'NUMBER OF PERSONS KILLED',\n",
    "                      'NUMBER OF PEDESTRIANS INJURED', 'NUMBER OF PEDESTRIANS KILLED',\n",
    "                      'NUMBER OF CYCLIST INJURED', 'NUMBER OF CYCLIST KILLED',\n",
    "                      'NUMBER OF MOTORIST INJURED', 'NUMBER OF MOTORIST KILLED' ]\n",
    "\n",
    "df5 =  df4.groupby(['ON STREET NAME', 'Week', 'Weekday'], as_index=False)[columnsToAggregate].mean()"
   ]
  },
  {
   "cell_type": "code",
   "execution_count": 52,
   "id": "27374b99",
   "metadata": {},
   "outputs": [
    {
     "data": {
      "text/html": [
       "<div>\n",
       "<style scoped>\n",
       "    .dataframe tbody tr th:only-of-type {\n",
       "        vertical-align: middle;\n",
       "    }\n",
       "\n",
       "    .dataframe tbody tr th {\n",
       "        vertical-align: top;\n",
       "    }\n",
       "\n",
       "    .dataframe thead th {\n",
       "        text-align: right;\n",
       "    }\n",
       "</style>\n",
       "<table border=\"1\" class=\"dataframe\">\n",
       "  <thead>\n",
       "    <tr style=\"text-align: right;\">\n",
       "      <th></th>\n",
       "      <th>ON STREET NAME</th>\n",
       "      <th>Week</th>\n",
       "      <th>Weekday</th>\n",
       "      <th>NUMBER OF PERSONS INJURED</th>\n",
       "      <th>NUMBER OF PERSONS KILLED</th>\n",
       "      <th>NUMBER OF PEDESTRIANS INJURED</th>\n",
       "      <th>NUMBER OF PEDESTRIANS KILLED</th>\n",
       "      <th>NUMBER OF CYCLIST INJURED</th>\n",
       "      <th>NUMBER OF CYCLIST KILLED</th>\n",
       "      <th>NUMBER OF MOTORIST INJURED</th>\n",
       "      <th>NUMBER OF MOTORIST KILLED</th>\n",
       "    </tr>\n",
       "  </thead>\n",
       "  <tbody>\n",
       "    <tr>\n",
       "      <th>0</th>\n",
       "      <td>1 AVENUE</td>\n",
       "      <td>1</td>\n",
       "      <td>0</td>\n",
       "      <td>0.5</td>\n",
       "      <td>0.0</td>\n",
       "      <td>0.0</td>\n",
       "      <td>0.0</td>\n",
       "      <td>0.5</td>\n",
       "      <td>0.0</td>\n",
       "      <td>0.0</td>\n",
       "      <td>0.0</td>\n",
       "    </tr>\n",
       "    <tr>\n",
       "      <th>1</th>\n",
       "      <td>1 AVENUE</td>\n",
       "      <td>1</td>\n",
       "      <td>2</td>\n",
       "      <td>0.0</td>\n",
       "      <td>0.0</td>\n",
       "      <td>0.0</td>\n",
       "      <td>0.0</td>\n",
       "      <td>0.0</td>\n",
       "      <td>0.0</td>\n",
       "      <td>0.0</td>\n",
       "      <td>0.0</td>\n",
       "    </tr>\n",
       "    <tr>\n",
       "      <th>2</th>\n",
       "      <td>1 AVENUE</td>\n",
       "      <td>1</td>\n",
       "      <td>4</td>\n",
       "      <td>0.0</td>\n",
       "      <td>0.0</td>\n",
       "      <td>0.0</td>\n",
       "      <td>0.0</td>\n",
       "      <td>0.0</td>\n",
       "      <td>0.0</td>\n",
       "      <td>0.0</td>\n",
       "      <td>0.0</td>\n",
       "    </tr>\n",
       "    <tr>\n",
       "      <th>3</th>\n",
       "      <td>1 AVENUE</td>\n",
       "      <td>1</td>\n",
       "      <td>5</td>\n",
       "      <td>1.0</td>\n",
       "      <td>0.0</td>\n",
       "      <td>0.0</td>\n",
       "      <td>0.0</td>\n",
       "      <td>0.0</td>\n",
       "      <td>0.0</td>\n",
       "      <td>1.0</td>\n",
       "      <td>0.0</td>\n",
       "    </tr>\n",
       "    <tr>\n",
       "      <th>4</th>\n",
       "      <td>1 AVENUE</td>\n",
       "      <td>2</td>\n",
       "      <td>0</td>\n",
       "      <td>0.0</td>\n",
       "      <td>0.0</td>\n",
       "      <td>0.0</td>\n",
       "      <td>0.0</td>\n",
       "      <td>0.0</td>\n",
       "      <td>0.0</td>\n",
       "      <td>0.0</td>\n",
       "      <td>0.0</td>\n",
       "    </tr>\n",
       "    <tr>\n",
       "      <th>...</th>\n",
       "      <td>...</td>\n",
       "      <td>...</td>\n",
       "      <td>...</td>\n",
       "      <td>...</td>\n",
       "      <td>...</td>\n",
       "      <td>...</td>\n",
       "      <td>...</td>\n",
       "      <td>...</td>\n",
       "      <td>...</td>\n",
       "      <td>...</td>\n",
       "      <td>...</td>\n",
       "    </tr>\n",
       "    <tr>\n",
       "      <th>303367</th>\n",
       "      <td>northern boulevard</td>\n",
       "      <td>42</td>\n",
       "      <td>3</td>\n",
       "      <td>1.0</td>\n",
       "      <td>0.0</td>\n",
       "      <td>0.0</td>\n",
       "      <td>0.0</td>\n",
       "      <td>1.0</td>\n",
       "      <td>0.0</td>\n",
       "      <td>0.0</td>\n",
       "      <td>0.0</td>\n",
       "    </tr>\n",
       "    <tr>\n",
       "      <th>303368</th>\n",
       "      <td>seagirt blvd</td>\n",
       "      <td>41</td>\n",
       "      <td>4</td>\n",
       "      <td>0.0</td>\n",
       "      <td>0.0</td>\n",
       "      <td>0.0</td>\n",
       "      <td>0.0</td>\n",
       "      <td>0.0</td>\n",
       "      <td>0.0</td>\n",
       "      <td>0.0</td>\n",
       "      <td>0.0</td>\n",
       "    </tr>\n",
       "    <tr>\n",
       "      <th>303369</th>\n",
       "      <td>w 36th street</td>\n",
       "      <td>42</td>\n",
       "      <td>1</td>\n",
       "      <td>1.0</td>\n",
       "      <td>0.0</td>\n",
       "      <td>0.0</td>\n",
       "      <td>0.0</td>\n",
       "      <td>1.0</td>\n",
       "      <td>0.0</td>\n",
       "      <td>0.0</td>\n",
       "      <td>0.0</td>\n",
       "    </tr>\n",
       "    <tr>\n",
       "      <th>303370</th>\n",
       "      <td>west 143 street</td>\n",
       "      <td>41</td>\n",
       "      <td>0</td>\n",
       "      <td>2.0</td>\n",
       "      <td>0.0</td>\n",
       "      <td>0.0</td>\n",
       "      <td>0.0</td>\n",
       "      <td>0.0</td>\n",
       "      <td>0.0</td>\n",
       "      <td>2.0</td>\n",
       "      <td>0.0</td>\n",
       "    </tr>\n",
       "    <tr>\n",
       "      <th>303371</th>\n",
       "      <td>west 59 street</td>\n",
       "      <td>40</td>\n",
       "      <td>2</td>\n",
       "      <td>1.0</td>\n",
       "      <td>0.0</td>\n",
       "      <td>1.0</td>\n",
       "      <td>0.0</td>\n",
       "      <td>0.0</td>\n",
       "      <td>0.0</td>\n",
       "      <td>0.0</td>\n",
       "      <td>0.0</td>\n",
       "    </tr>\n",
       "  </tbody>\n",
       "</table>\n",
       "<p>303372 rows × 11 columns</p>\n",
       "</div>"
      ],
      "text/plain": [
       "            ON STREET NAME  Week  Weekday  NUMBER OF PERSONS INJURED  \\\n",
       "0                 1 AVENUE     1        0                        0.5   \n",
       "1                 1 AVENUE     1        2                        0.0   \n",
       "2                 1 AVENUE     1        4                        0.0   \n",
       "3                 1 AVENUE     1        5                        1.0   \n",
       "4                 1 AVENUE     2        0                        0.0   \n",
       "...                    ...   ...      ...                        ...   \n",
       "303367  northern boulevard    42        3                        1.0   \n",
       "303368        seagirt blvd    41        4                        0.0   \n",
       "303369       w 36th street    42        1                        1.0   \n",
       "303370     west 143 street    41        0                        2.0   \n",
       "303371      west 59 street    40        2                        1.0   \n",
       "\n",
       "        NUMBER OF PERSONS KILLED  NUMBER OF PEDESTRIANS INJURED  \\\n",
       "0                            0.0                            0.0   \n",
       "1                            0.0                            0.0   \n",
       "2                            0.0                            0.0   \n",
       "3                            0.0                            0.0   \n",
       "4                            0.0                            0.0   \n",
       "...                          ...                            ...   \n",
       "303367                       0.0                            0.0   \n",
       "303368                       0.0                            0.0   \n",
       "303369                       0.0                            0.0   \n",
       "303370                       0.0                            0.0   \n",
       "303371                       0.0                            1.0   \n",
       "\n",
       "        NUMBER OF PEDESTRIANS KILLED  NUMBER OF CYCLIST INJURED  \\\n",
       "0                                0.0                        0.5   \n",
       "1                                0.0                        0.0   \n",
       "2                                0.0                        0.0   \n",
       "3                                0.0                        0.0   \n",
       "4                                0.0                        0.0   \n",
       "...                              ...                        ...   \n",
       "303367                           0.0                        1.0   \n",
       "303368                           0.0                        0.0   \n",
       "303369                           0.0                        1.0   \n",
       "303370                           0.0                        0.0   \n",
       "303371                           0.0                        0.0   \n",
       "\n",
       "        NUMBER OF CYCLIST KILLED  NUMBER OF MOTORIST INJURED  \\\n",
       "0                            0.0                         0.0   \n",
       "1                            0.0                         0.0   \n",
       "2                            0.0                         0.0   \n",
       "3                            0.0                         1.0   \n",
       "4                            0.0                         0.0   \n",
       "...                          ...                         ...   \n",
       "303367                       0.0                         0.0   \n",
       "303368                       0.0                         0.0   \n",
       "303369                       0.0                         0.0   \n",
       "303370                       0.0                         2.0   \n",
       "303371                       0.0                         0.0   \n",
       "\n",
       "        NUMBER OF MOTORIST KILLED  \n",
       "0                             0.0  \n",
       "1                             0.0  \n",
       "2                             0.0  \n",
       "3                             0.0  \n",
       "4                             0.0  \n",
       "...                           ...  \n",
       "303367                        0.0  \n",
       "303368                        0.0  \n",
       "303369                        0.0  \n",
       "303370                        0.0  \n",
       "303371                        0.0  \n",
       "\n",
       "[303372 rows x 11 columns]"
      ]
     },
     "execution_count": 52,
     "metadata": {},
     "output_type": "execute_result"
    }
   ],
   "source": [
    "df5"
   ]
  },
  {
   "cell_type": "code",
   "execution_count": 48,
   "id": "6e1f7178",
   "metadata": {},
   "outputs": [
    {
     "data": {
      "text/plain": [
       "NUMBER OF PERSONS INJURED        120124.006311\n",
       "NUMBER OF PERSONS KILLED            628.893216\n",
       "NUMBER OF PEDESTRIANS INJURED     21914.308089\n",
       "NUMBER OF PEDESTRIANS KILLED        301.058760\n",
       "NUMBER OF CYCLIST INJURED         12436.360513\n",
       "NUMBER OF CYCLIST KILLED             54.465512\n",
       "NUMBER OF MOTORIST INJURED        83261.271240\n",
       "NUMBER OF MOTORIST KILLED           251.368944\n",
       "dtype: float64"
      ]
     },
     "execution_count": 48,
     "metadata": {},
     "output_type": "execute_result"
    }
   ],
   "source": [
    "df5[columnsToAggregate].sum(axis=0)"
   ]
  },
  {
   "cell_type": "code",
   "execution_count": 49,
   "id": "09390908",
   "metadata": {},
   "outputs": [
    {
     "data": {
      "text/html": [
       "<div>\n",
       "<style scoped>\n",
       "    .dataframe tbody tr th:only-of-type {\n",
       "        vertical-align: middle;\n",
       "    }\n",
       "\n",
       "    .dataframe tbody tr th {\n",
       "        vertical-align: top;\n",
       "    }\n",
       "\n",
       "    .dataframe thead th {\n",
       "        text-align: right;\n",
       "    }\n",
       "</style>\n",
       "<table border=\"1\" class=\"dataframe\">\n",
       "  <thead>\n",
       "    <tr style=\"text-align: right;\">\n",
       "      <th></th>\n",
       "      <th>NUMBER OF PERSONS INJURED</th>\n",
       "      <th>NUMBER OF PERSONS KILLED</th>\n",
       "      <th>NUMBER OF PEDESTRIANS INJURED</th>\n",
       "      <th>NUMBER OF PEDESTRIANS KILLED</th>\n",
       "      <th>NUMBER OF CYCLIST INJURED</th>\n",
       "      <th>NUMBER OF CYCLIST KILLED</th>\n",
       "      <th>NUMBER OF MOTORIST INJURED</th>\n",
       "      <th>NUMBER OF MOTORIST KILLED</th>\n",
       "    </tr>\n",
       "  </thead>\n",
       "  <tbody>\n",
       "    <tr>\n",
       "      <th>count</th>\n",
       "      <td>303371.000000</td>\n",
       "      <td>303370.000000</td>\n",
       "      <td>303372.000000</td>\n",
       "      <td>303372.000000</td>\n",
       "      <td>303372.000000</td>\n",
       "      <td>303372.000000</td>\n",
       "      <td>303372.000000</td>\n",
       "      <td>303372.000000</td>\n",
       "    </tr>\n",
       "    <tr>\n",
       "      <th>mean</th>\n",
       "      <td>0.395964</td>\n",
       "      <td>0.002073</td>\n",
       "      <td>0.072236</td>\n",
       "      <td>0.000992</td>\n",
       "      <td>0.040994</td>\n",
       "      <td>0.000180</td>\n",
       "      <td>0.274453</td>\n",
       "      <td>0.000829</td>\n",
       "    </tr>\n",
       "    <tr>\n",
       "      <th>std</th>\n",
       "      <td>0.674813</td>\n",
       "      <td>0.043141</td>\n",
       "      <td>0.251006</td>\n",
       "      <td>0.029069</td>\n",
       "      <td>0.186307</td>\n",
       "      <td>0.012193</td>\n",
       "      <td>0.638962</td>\n",
       "      <td>0.028178</td>\n",
       "    </tr>\n",
       "    <tr>\n",
       "      <th>min</th>\n",
       "      <td>0.000000</td>\n",
       "      <td>0.000000</td>\n",
       "      <td>0.000000</td>\n",
       "      <td>0.000000</td>\n",
       "      <td>0.000000</td>\n",
       "      <td>0.000000</td>\n",
       "      <td>0.000000</td>\n",
       "      <td>0.000000</td>\n",
       "    </tr>\n",
       "    <tr>\n",
       "      <th>25%</th>\n",
       "      <td>0.000000</td>\n",
       "      <td>0.000000</td>\n",
       "      <td>0.000000</td>\n",
       "      <td>0.000000</td>\n",
       "      <td>0.000000</td>\n",
       "      <td>0.000000</td>\n",
       "      <td>0.000000</td>\n",
       "      <td>0.000000</td>\n",
       "    </tr>\n",
       "    <tr>\n",
       "      <th>50%</th>\n",
       "      <td>0.000000</td>\n",
       "      <td>0.000000</td>\n",
       "      <td>0.000000</td>\n",
       "      <td>0.000000</td>\n",
       "      <td>0.000000</td>\n",
       "      <td>0.000000</td>\n",
       "      <td>0.000000</td>\n",
       "      <td>0.000000</td>\n",
       "    </tr>\n",
       "    <tr>\n",
       "      <th>75%</th>\n",
       "      <td>1.000000</td>\n",
       "      <td>0.000000</td>\n",
       "      <td>0.000000</td>\n",
       "      <td>0.000000</td>\n",
       "      <td>0.000000</td>\n",
       "      <td>0.000000</td>\n",
       "      <td>0.142857</td>\n",
       "      <td>0.000000</td>\n",
       "    </tr>\n",
       "    <tr>\n",
       "      <th>max</th>\n",
       "      <td>18.000000</td>\n",
       "      <td>3.000000</td>\n",
       "      <td>7.000000</td>\n",
       "      <td>2.000000</td>\n",
       "      <td>3.000000</td>\n",
       "      <td>1.000000</td>\n",
       "      <td>18.000000</td>\n",
       "      <td>3.000000</td>\n",
       "    </tr>\n",
       "  </tbody>\n",
       "</table>\n",
       "</div>"
      ],
      "text/plain": [
       "       NUMBER OF PERSONS INJURED  NUMBER OF PERSONS KILLED  \\\n",
       "count              303371.000000             303370.000000   \n",
       "mean                    0.395964                  0.002073   \n",
       "std                     0.674813                  0.043141   \n",
       "min                     0.000000                  0.000000   \n",
       "25%                     0.000000                  0.000000   \n",
       "50%                     0.000000                  0.000000   \n",
       "75%                     1.000000                  0.000000   \n",
       "max                    18.000000                  3.000000   \n",
       "\n",
       "       NUMBER OF PEDESTRIANS INJURED  NUMBER OF PEDESTRIANS KILLED  \\\n",
       "count                  303372.000000                 303372.000000   \n",
       "mean                        0.072236                      0.000992   \n",
       "std                         0.251006                      0.029069   \n",
       "min                         0.000000                      0.000000   \n",
       "25%                         0.000000                      0.000000   \n",
       "50%                         0.000000                      0.000000   \n",
       "75%                         0.000000                      0.000000   \n",
       "max                         7.000000                      2.000000   \n",
       "\n",
       "       NUMBER OF CYCLIST INJURED  NUMBER OF CYCLIST KILLED  \\\n",
       "count              303372.000000             303372.000000   \n",
       "mean                    0.040994                  0.000180   \n",
       "std                     0.186307                  0.012193   \n",
       "min                     0.000000                  0.000000   \n",
       "25%                     0.000000                  0.000000   \n",
       "50%                     0.000000                  0.000000   \n",
       "75%                     0.000000                  0.000000   \n",
       "max                     3.000000                  1.000000   \n",
       "\n",
       "       NUMBER OF MOTORIST INJURED  NUMBER OF MOTORIST KILLED  \n",
       "count               303372.000000              303372.000000  \n",
       "mean                     0.274453                   0.000829  \n",
       "std                      0.638962                   0.028178  \n",
       "min                      0.000000                   0.000000  \n",
       "25%                      0.000000                   0.000000  \n",
       "50%                      0.000000                   0.000000  \n",
       "75%                      0.142857                   0.000000  \n",
       "max                     18.000000                   3.000000  "
      ]
     },
     "execution_count": 49,
     "metadata": {},
     "output_type": "execute_result"
    }
   ],
   "source": [
    "df5[columnsToAggregate].describe()"
   ]
  },
  {
   "cell_type": "code",
   "execution_count": 51,
   "id": "2c694665",
   "metadata": {},
   "outputs": [],
   "source": [
    "df4.to_csv( 'df4.csv', index = False)\n",
    "df5.to_csv( 'df5.csv', index = False)"
   ]
  },
  {
   "cell_type": "code",
   "execution_count": null,
   "id": "c1ff64de",
   "metadata": {},
   "outputs": [],
   "source": [
    "df1['DATETIME'].dt.year.min(),df1['DATETIME'].dt.year.max(),"
   ]
  },
  {
   "cell_type": "code",
   "execution_count": null,
   "id": "3cd17ea8",
   "metadata": {},
   "outputs": [],
   "source": [
    "df1['DATETIME'].dt.isocalendar().week"
   ]
  },
  {
   "cell_type": "code",
   "execution_count": null,
   "id": "8a2f6e8f",
   "metadata": {},
   "outputs": [],
   "source": [
    "df1['DATETIME'].dt.isocalendar().week.hist()"
   ]
  },
  {
   "cell_type": "code",
   "execution_count": null,
   "id": "3e1eeffd",
   "metadata": {},
   "outputs": [],
   "source": [
    "df1['DATETIME'].dt.isocalendar().week.value_counts()"
   ]
  },
  {
   "cell_type": "code",
   "execution_count": null,
   "id": "e705c2c5",
   "metadata": {},
   "outputs": [],
   "source": []
  },
  {
   "cell_type": "code",
   "execution_count": null,
   "id": "81c87fc4",
   "metadata": {},
   "outputs": [],
   "source": [
    "df1['DATETIME'].dt.weekday"
   ]
  },
  {
   "cell_type": "code",
   "execution_count": null,
   "id": "52bc7bc5",
   "metadata": {},
   "outputs": [],
   "source": [
    "df1['DATETIME'].dt.weekday.hist()"
   ]
  },
  {
   "cell_type": "code",
   "execution_count": null,
   "id": "64a735a6",
   "metadata": {},
   "outputs": [],
   "source": [
    "df1['DATETIME'].dt.weekday.value_counts()"
   ]
  },
  {
   "cell_type": "code",
   "execution_count": null,
   "id": "1b72fa05",
   "metadata": {},
   "outputs": [],
   "source": [
    "newIndex = df1['ON STREET NAME'].dropna().index\n",
    "newIndex"
   ]
  },
  {
   "cell_type": "code",
   "execution_count": null,
   "id": "b08d32ad",
   "metadata": {},
   "outputs": [],
   "source": [
    "df2 = df1.iloc[newIndex]\n",
    "df2"
   ]
  },
  {
   "cell_type": "code",
   "execution_count": null,
   "id": "868c1f5c",
   "metadata": {},
   "outputs": [],
   "source": [
    "df2.set_index(['DATETIME'], inplace=True)"
   ]
  },
  {
   "cell_type": "code",
   "execution_count": null,
   "id": "5ea8a602",
   "metadata": {},
   "outputs": [],
   "source": [
    "df2"
   ]
  },
  {
   "cell_type": "code",
   "execution_count": null,
   "id": "d445d33e",
   "metadata": {},
   "outputs": [],
   "source": [
    "dDF = gDF[['DATETIME', 'ON STREET NAME', \n",
    "               'NUMBER OF PERSONS INJURED', 'NUMBER OF PERSONS KILLED',\n",
    "               'NUMBER OF PEDESTRIANS INJURED', 'NUMBER OF PEDESTRIANS KILLED',\n",
    "               'NUMBER OF CYCLIST INJURED', 'NUMBER OF CYCLIST KILLED',\n",
    "               'NUMBER OF MOTORIST INJURED', 'NUMBER OF MOTORIST KILLED', 'Week', 'Weekday']]\n",
    "dDF"
   ]
  },
  {
   "cell_type": "code",
   "execution_count": null,
   "id": "a36039dc",
   "metadata": {},
   "outputs": [],
   "source": [
    "dDF.groupby(['ON STREET NAME', 'Week', 'Weekday'], observed=True).mean(numeric_only=True).reset_index()"
   ]
  },
  {
   "cell_type": "code",
   "execution_count": null,
   "id": "ea216ce0",
   "metadata": {},
   "outputs": [],
   "source": []
  },
  {
   "cell_type": "code",
   "execution_count": null,
   "id": "628c3797",
   "metadata": {},
   "outputs": [],
   "source": [
    "pd.set_option('display.max_rows', 500)"
   ]
  },
  {
   "cell_type": "code",
   "execution_count": null,
   "id": "f967c266",
   "metadata": {},
   "outputs": [],
   "source": [
    "rDF"
   ]
  },
  {
   "cell_type": "code",
   "execution_count": null,
   "id": "f4bccc30",
   "metadata": {},
   "outputs": [],
   "source": [
    "crashDF.notna().sum()"
   ]
  },
  {
   "cell_type": "code",
   "execution_count": null,
   "id": "dc589a90",
   "metadata": {},
   "outputs": [],
   "source": [
    "fig = px.histogram(crashDF, x=\"DATETIME\")\n",
    "fig.update_layout(bargap=0.2)\n",
    "fig.show()"
   ]
  },
  {
   "cell_type": "code",
   "execution_count": null,
   "id": "66206fff",
   "metadata": {},
   "outputs": [],
   "source": [
    "fig = px.histogram(crashDF, x=\"BOROUGH\")\n",
    "fig.update_layout(bargap=0.2)\n",
    "fig.show()"
   ]
  },
  {
   "cell_type": "code",
   "execution_count": null,
   "id": "97bf1724",
   "metadata": {},
   "outputs": [],
   "source": [
    "crashDF.LATITUDE.min(), crashDF.LATITUDE.max(), "
   ]
  },
  {
   "cell_type": "code",
   "execution_count": null,
   "id": "3afd5c72",
   "metadata": {},
   "outputs": [],
   "source": [
    "fig = px.histogram(crashDF, x=\"LATITUDE\")\n",
    "fig.show()"
   ]
  },
  {
   "cell_type": "markdown",
   "id": "32453910",
   "metadata": {},
   "source": [
    "Latitude contains invalid values"
   ]
  },
  {
   "cell_type": "code",
   "execution_count": null,
   "id": "8b433156",
   "metadata": {},
   "outputs": [],
   "source": [
    "df1 = crashDF[(crashDF.LATITUDE > 40.4) & (crashDF.LATITUDE < 41.0) & crashDF.LATITUDE.notna() ]\n",
    "df1.shape"
   ]
  },
  {
   "cell_type": "code",
   "execution_count": null,
   "id": "ad3acc35",
   "metadata": {},
   "outputs": [],
   "source": [
    "fig = px.histogram(df1, x=\"LATITUDE\")\n",
    "fig.show()"
   ]
  },
  {
   "cell_type": "code",
   "execution_count": null,
   "id": "4dc61ad0",
   "metadata": {},
   "outputs": [],
   "source": [
    "df1.LONGITUDE.min(), df1.LONGITUDE.max(), "
   ]
  },
  {
   "cell_type": "code",
   "execution_count": null,
   "id": "63ac2b59",
   "metadata": {},
   "outputs": [],
   "source": [
    "fig = px.histogram(df1, x=\"LONGITUDE\")\n",
    "fig.show()"
   ]
  },
  {
   "cell_type": "markdown",
   "id": "07f9aeec",
   "metadata": {},
   "source": [
    "Longitude contains invalid values"
   ]
  },
  {
   "cell_type": "code",
   "execution_count": null,
   "id": "c55c9dc0",
   "metadata": {},
   "outputs": [],
   "source": [
    "df2 = df1[(df1.LONGITUDE > -74.4) & (df1.LONGITUDE < -73.6) & df1.LONGITUDE.notna() ]\n",
    "df2.shape"
   ]
  },
  {
   "cell_type": "code",
   "execution_count": null,
   "id": "48a0c0a3",
   "metadata": {},
   "outputs": [],
   "source": [
    "fig = px.histogram(df2, x=\"LONGITUDE\")\n",
    "fig.show()"
   ]
  },
  {
   "cell_type": "code",
   "execution_count": null,
   "id": "63f80539",
   "metadata": {},
   "outputs": [],
   "source": [
    "df2.head()"
   ]
  },
  {
   "cell_type": "code",
   "execution_count": null,
   "id": "85029d56",
   "metadata": {},
   "outputs": [],
   "source": [
    "df3 = df2[ df2['ON STREET NAME'].notna() ]\n",
    "df3.shape"
   ]
  },
  {
   "cell_type": "code",
   "execution_count": null,
   "id": "15bc0442",
   "metadata": {},
   "outputs": [],
   "source": [
    "df3.head()"
   ]
  },
  {
   "cell_type": "code",
   "execution_count": null,
   "id": "53d29e50",
   "metadata": {},
   "outputs": [],
   "source": [
    "df3.to_csv('df3.csv')"
   ]
  },
  {
   "cell_type": "code",
   "execution_count": null,
   "id": "d309bf6c",
   "metadata": {},
   "outputs": [],
   "source": [
    "df3['CONTRIBUTING FACTOR VEHICLE 2'].notna().value_counts()"
   ]
  },
  {
   "cell_type": "code",
   "execution_count": null,
   "id": "35d7660f",
   "metadata": {},
   "outputs": [],
   "source": [
    "df3['CONTRIBUTING FACTOR VEHICLE 2'].value_counts()"
   ]
  },
  {
   "cell_type": "code",
   "execution_count": null,
   "id": "f9405ca2",
   "metadata": {},
   "outputs": [],
   "source": [
    "df3['CONTRIBUTING FACTOR VEHICLE 3'].notna().value_counts()"
   ]
  },
  {
   "cell_type": "code",
   "execution_count": null,
   "id": "cc28c562",
   "metadata": {},
   "outputs": [],
   "source": [
    "df3['CONTRIBUTING FACTOR VEHICLE 3'].value_counts()"
   ]
  },
  {
   "cell_type": "markdown",
   "id": "dce2f1d9",
   "metadata": {},
   "source": [
    "'CONTRIBUTING FACTOR VEHICLE 2', 'CONTRIBUTING FACTOR VEHICLE 3', 'CONTRIBUTING FACTOR VEHICLE 4', 'CONTRIBUTING FACTOR VEHICLE 5' - mostly 'unspecified' - DROP or merge"
   ]
  },
  {
   "cell_type": "code",
   "execution_count": null,
   "id": "f2707884",
   "metadata": {},
   "outputs": [],
   "source": [
    "df3['VEHICLE TYPE CODE 1'].notna().value_counts()"
   ]
  },
  {
   "cell_type": "code",
   "execution_count": null,
   "id": "c4d47ae7",
   "metadata": {},
   "outputs": [],
   "source": [
    "df3['VEHICLE TYPE CODE 2'].notna().value_counts()"
   ]
  },
  {
   "cell_type": "code",
   "execution_count": null,
   "id": "4ef4de17",
   "metadata": {},
   "outputs": [],
   "source": [
    "df3['VEHICLE TYPE CODE 3'].notna().value_counts()"
   ]
  },
  {
   "cell_type": "code",
   "execution_count": null,
   "id": "29468ef5",
   "metadata": {},
   "outputs": [],
   "source": [
    "df3['VEHICLE TYPE CODE 4'].notna().value_counts()"
   ]
  },
  {
   "cell_type": "code",
   "execution_count": null,
   "id": "57c421ce",
   "metadata": {},
   "outputs": [],
   "source": [
    "df3['VEHICLE TYPE CODE 5'].notna().value_counts()"
   ]
  },
  {
   "cell_type": "code",
   "execution_count": null,
   "id": "88d83c30",
   "metadata": {},
   "outputs": [],
   "source": [
    "df3['NUMBER OF PERSONS INJURED'].notna().value_counts()"
   ]
  },
  {
   "cell_type": "code",
   "execution_count": null,
   "id": "62ff7527",
   "metadata": {},
   "outputs": [],
   "source": [
    "fig = px.histogram(df3, x='NUMBER OF PERSONS INJURED')\n",
    "fig.show()"
   ]
  },
  {
   "cell_type": "code",
   "execution_count": null,
   "id": "c3325b15",
   "metadata": {},
   "outputs": [],
   "source": [
    "df3['NUMBER OF PERSONS KILLED'].notna().value_counts()\n",
    "#       'NUMBER OF PERSONS INJURED', 'NUMBER OF PERSONS KILLED',\n",
    "#       'NUMBER OF PEDESTRIANS INJURED', 'NUMBER OF PEDESTRIANS KILLED',\n",
    "#       'NUMBER OF CYCLIST INJURED', 'NUMBER OF CYCLIST KILLED',\n",
    "#       'NUMBER OF MOTORIST INJURED', 'NUMBER OF MOTORIST KILLED'"
   ]
  },
  {
   "cell_type": "code",
   "execution_count": null,
   "id": "a92eda97",
   "metadata": {},
   "outputs": [],
   "source": [
    "fig = px.histogram(df3, x='NUMBER OF PERSONS KILLED')\n",
    "fig.show()"
   ]
  },
  {
   "cell_type": "code",
   "execution_count": null,
   "id": "195314a2",
   "metadata": {},
   "outputs": [],
   "source": [
    "df3['NUMBER OF PEDESTRIANS INJURED'].notna().value_counts()\n",
    "#       'NUMBER OF PERSONS INJURED', 'NUMBER OF PERSONS KILLED',\n",
    "#       'NUMBER OF PEDESTRIANS INJURED', 'NUMBER OF PEDESTRIANS KILLED',\n",
    "#       'NUMBER OF CYCLIST INJURED', 'NUMBER OF CYCLIST KILLED',\n",
    "#       'NUMBER OF MOTORIST INJURED', 'NUMBER OF MOTORIST KILLED'"
   ]
  },
  {
   "cell_type": "code",
   "execution_count": null,
   "id": "7684f55f",
   "metadata": {},
   "outputs": [],
   "source": [
    "fig = px.histogram(df3, x='NUMBER OF PEDESTRIANS INJURED')\n",
    "fig.show()"
   ]
  },
  {
   "cell_type": "code",
   "execution_count": null,
   "id": "1c4ee16e",
   "metadata": {},
   "outputs": [],
   "source": [
    "df3['NUMBER OF PEDESTRIANS KILLED'].notna().value_counts()\n",
    "#       'NUMBER OF PERSONS INJURED', 'NUMBER OF PERSONS KILLED',\n",
    "#       'NUMBER OF PEDESTRIANS INJURED', 'NUMBER OF PEDESTRIANS KILLED',\n",
    "#       'NUMBER OF CYCLIST INJURED', 'NUMBER OF CYCLIST KILLED',\n",
    "#       'NUMBER OF MOTORIST INJURED', 'NUMBER OF MOTORIST KILLED'"
   ]
  },
  {
   "cell_type": "code",
   "execution_count": null,
   "id": "07a65082",
   "metadata": {},
   "outputs": [],
   "source": [
    "fig = px.histogram(df3, x='NUMBER OF PEDESTRIANS KILLED')\n",
    "fig.show()"
   ]
  },
  {
   "cell_type": "code",
   "execution_count": null,
   "id": "fa6f8a4f",
   "metadata": {},
   "outputs": [],
   "source": [
    "df3['NUMBER OF CYCLIST INJURED'].notna().value_counts()\n",
    "#       'NUMBER OF PERSONS INJURED', 'NUMBER OF PERSONS KILLED',\n",
    "#       'NUMBER OF PEDESTRIANS INJURED', 'NUMBER OF PEDESTRIANS KILLED',\n",
    "#       'NUMBER OF CYCLIST INJURED', 'NUMBER OF CYCLIST KILLED',\n",
    "#       'NUMBER OF MOTORIST INJURED', 'NUMBER OF MOTORIST KILLED'"
   ]
  },
  {
   "cell_type": "code",
   "execution_count": null,
   "id": "82d504e3",
   "metadata": {},
   "outputs": [],
   "source": [
    "fig = px.histogram(df3, x='NUMBER OF CYCLIST INJURED')\n",
    "fig.show()"
   ]
  },
  {
   "cell_type": "code",
   "execution_count": null,
   "id": "28a14d3b",
   "metadata": {},
   "outputs": [],
   "source": [
    "df3['NUMBER OF CYCLIST KILLED'].notna().value_counts()\n",
    "#       'NUMBER OF PERSONS INJURED', 'NUMBER OF PERSONS KILLED',\n",
    "#       'NUMBER OF PEDESTRIANS INJURED', 'NUMBER OF PEDESTRIANS KILLED',\n",
    "#       'NUMBER OF CYCLIST INJURED', 'NUMBER OF CYCLIST KILLED',\n",
    "#       'NUMBER OF MOTORIST INJURED', 'NUMBER OF MOTORIST KILLED'"
   ]
  },
  {
   "cell_type": "code",
   "execution_count": null,
   "id": "607b7706",
   "metadata": {},
   "outputs": [],
   "source": [
    "fig = px.histogram(df3, x='NUMBER OF CYCLIST KILLED')\n",
    "fig.show()"
   ]
  },
  {
   "cell_type": "code",
   "execution_count": null,
   "id": "ee4a8123",
   "metadata": {},
   "outputs": [],
   "source": [
    "df3['NUMBER OF MOTORIST INJURED'].notna().value_counts()\n",
    "#       'NUMBER OF PERSONS INJURED', 'NUMBER OF PERSONS KILLED',\n",
    "#       'NUMBER OF PEDESTRIANS INJURED', 'NUMBER OF PEDESTRIANS KILLED',\n",
    "#       'NUMBER OF CYCLIST INJURED', 'NUMBER OF CYCLIST KILLED',\n",
    "#       'NUMBER OF MOTORIST INJURED', 'NUMBER OF MOTORIST KILLED'"
   ]
  },
  {
   "cell_type": "code",
   "execution_count": null,
   "id": "f0b9d6f9",
   "metadata": {},
   "outputs": [],
   "source": [
    "fig = px.histogram(df3, x='NUMBER OF MOTORIST INJURED')\n",
    "fig.show()"
   ]
  },
  {
   "cell_type": "code",
   "execution_count": null,
   "id": "b0560ff2",
   "metadata": {},
   "outputs": [],
   "source": [
    "df3['NUMBER OF MOTORIST KILLED'].notna().value_counts()\n",
    "#       'NUMBER OF PERSONS INJURED', 'NUMBER OF PERSONS KILLED',\n",
    "#       'NUMBER OF PEDESTRIANS INJURED', 'NUMBER OF PEDESTRIANS KILLED',\n",
    "#       'NUMBER OF CYCLIST INJURED', 'NUMBER OF CYCLIST KILLED',\n",
    "#       'NUMBER OF MOTORIST INJURED', 'NUMBER OF MOTORIST KILLED'"
   ]
  },
  {
   "cell_type": "code",
   "execution_count": null,
   "id": "12897c38",
   "metadata": {},
   "outputs": [],
   "source": [
    "fig = px.histogram(df3, x='NUMBER OF MOTORIST KILLED')\n",
    "fig.show()"
   ]
  },
  {
   "cell_type": "code",
   "execution_count": null,
   "id": "742d4eba",
   "metadata": {},
   "outputs": [],
   "source": [
    "!ls"
   ]
  },
  {
   "cell_type": "code",
   "execution_count": null,
   "id": "8e821259",
   "metadata": {},
   "outputs": [],
   "source": [
    "for column in df3.columns:\n",
    "  print(column, \" - \", pd.api.types.infer_dtype(df3[column]))"
   ]
  },
  {
   "cell_type": "code",
   "execution_count": null,
   "id": "8c1cb29e",
   "metadata": {},
   "outputs": [],
   "source": [
    "df3['BOROUGH'].notna().value_counts()"
   ]
  },
  {
   "cell_type": "code",
   "execution_count": null,
   "id": "a808ff33",
   "metadata": {},
   "outputs": [],
   "source": [
    "df3['LOCATION']"
   ]
  },
  {
   "cell_type": "code",
   "execution_count": null,
   "id": "2d44eeed",
   "metadata": {},
   "outputs": [],
   "source": [
    "df3['LOCATION'].notna().value_counts()"
   ]
  },
  {
   "cell_type": "code",
   "execution_count": null,
   "id": "f1a5ae5b",
   "metadata": {},
   "outputs": [],
   "source": [
    "df3['ZIP CODE'].notna().value_counts()"
   ]
  },
  {
   "cell_type": "code",
   "execution_count": null,
   "id": "45836f7d",
   "metadata": {},
   "outputs": [],
   "source": [
    "personDF = pd.read_csv('person.csv')\n",
    "personDF.head()"
   ]
  },
  {
   "cell_type": "code",
   "execution_count": null,
   "id": "1d49a7b1",
   "metadata": {},
   "outputs": [],
   "source": [
    "personDF.shape"
   ]
  },
  {
   "cell_type": "code",
   "execution_count": null,
   "id": "94b188d1",
   "metadata": {},
   "outputs": [],
   "source": [
    "for column in personDF.columns:\n",
    "  print(column, \" - \", pd.api.types.infer_dtype(personDF[column]))"
   ]
  },
  {
   "cell_type": "code",
   "execution_count": null,
   "id": "72618007",
   "metadata": {},
   "outputs": [],
   "source": [
    "vehicleDF = pd.read_csv('vehicles.csv')\n",
    "vehicleDF.head()"
   ]
  },
  {
   "cell_type": "code",
   "execution_count": null,
   "id": "dc0fc03b",
   "metadata": {},
   "outputs": [],
   "source": [
    "vehicleDF.columns"
   ]
  },
  {
   "cell_type": "code",
   "execution_count": null,
   "id": "eaf9d8b3",
   "metadata": {},
   "outputs": [],
   "source": [
    "for column in vehicleDF.columns:\n",
    "  print(column, \" - \", pd.api.types.infer_dtype(vehicleDF[column]))"
   ]
  },
  {
   "cell_type": "code",
   "execution_count": null,
   "id": "1c8a851a",
   "metadata": {},
   "outputs": [],
   "source": [
    "import geopandas\n",
    "from shapely.geometry import Point\n",
    "df = geopandas.tools.reverse_geocode(  \n",
    "    [Point(40.73908,-74.00309), Point(40.736668,-73.997345), Point(40.6058769,-73.9859727)]\n",
    ")\n",
    "df"
   ]
  },
  {
   "cell_type": "code",
   "execution_count": null,
   "id": "adc4eced",
   "metadata": {},
   "outputs": [],
   "source": [
    "# kmeans clustering\n",
    "# decision trees"
   ]
  },
  {
   "cell_type": "code",
   "execution_count": null,
   "id": "692422be",
   "metadata": {},
   "outputs": [],
   "source": [
    "px.set_mapbox_access_token(open(\".mapbox_token\").read())\n",
    "fig = px.scatter_mapbox(df5, \n",
    "                        lat=\"LATITUDE\", \n",
    "                        lon=\"LONGITUDE\",\n",
    "                        color=\"NUMBER OF PERSONS INJURED\",\n",
    "                        color_continuous_scale=px.colors.cyclical.IceFire, \n",
    "                        size_max=15, \n",
    "                        zoom=10)\n",
    "fig.show()"
   ]
  }
 ],
 "metadata": {
  "kernelspec": {
   "display_name": "Python 3 (ipykernel)",
   "language": "python",
   "name": "python3"
  },
  "language_info": {
   "codemirror_mode": {
    "name": "ipython",
    "version": 3
   },
   "file_extension": ".py",
   "mimetype": "text/x-python",
   "name": "python",
   "nbconvert_exporter": "python",
   "pygments_lexer": "ipython3",
   "version": "3.10.6"
  }
 },
 "nbformat": 4,
 "nbformat_minor": 5
}
