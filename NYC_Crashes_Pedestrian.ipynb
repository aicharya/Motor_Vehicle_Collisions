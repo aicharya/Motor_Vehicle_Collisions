{
 "cells": [
  {
   "cell_type": "markdown",
   "id": "8dbe4bc6",
   "metadata": {},
   "source": [
    "### New York City Crash Analysis"
   ]
  },
  {
   "cell_type": "markdown",
   "id": "0feb3483",
   "metadata": {},
   "source": [
    "##### Import pandas, plotly and matplotlib"
   ]
  },
  {
   "cell_type": "code",
   "execution_count": null,
   "id": "84e8933e",
   "metadata": {},
   "outputs": [],
   "source": [
    "import numpy as np\n",
    "import pandas as pd\n",
    "import plotly.express as px\n",
    "\n",
    "import matplotlib.pyplot as plt\n",
    "%matplotlib inline"
   ]
  },
  {
   "cell_type": "markdown",
   "id": "3403dc77",
   "metadata": {},
   "source": [
    "#### Load Crash data"
   ]
  },
  {
   "cell_type": "code",
   "execution_count": null,
   "id": "0d3cec5d",
   "metadata": {},
   "outputs": [],
   "source": [
    "columnDataTypes = {\n",
    "    'ON STREET NAME' : 'str', \n",
    "    'COLLISION_ID' : 'str', \n",
    "    'VEHICLE_TYPE' : 'str',\n",
    "    'BOROUGH' : 'str', \n",
    "    'ZIP CODE' : 'str',\n",
    "} \n",
    "\n",
    "dateOpts = { 'DATETIME' : [0, 1]}\n",
    "\n",
    "columnsToRead = [ 'CRASH_DATE', 'CRASH_TIME', 'BOROUGH', 'ZIP CODE', 'COLLISION_ID', 'VEHICLE_TYPE',\n",
    "                 'LATITUDE', 'LONGITUDE', 'ON_STREET_NAME', \n",
    "                 'NUMBER OF PERSONS INJURED', 'NUMBER OF PERSONS KILLED',\n",
    "                 'NUMBER OF PEDESTRIANS INJURED', 'NUMBER OF PEDESTRIANS KILLED',\n",
    "                 'NUMBER OF CYCLIST INJURED', 'NUMBER OF CYCLIST KILLED',\n",
    "                 'NUMBER OF MOTORIST INJURED', 'NUMBER OF MOTORIST KILLED', ]\n",
    "# 'VEHICLE TYPE CODE 1', 'VEHICLE TYPE CODE 2']\n",
    "\n",
    "columnNames = [ 'CRASH_DATE','CRASH_TIME','BOROUGH', 'ZIP CODE', 'LATITUDE', 'LONGITUDE',\n",
    "                'LOCATION','ON_STREET_NAME','CROSS STREET NAME','OFF STREET NAME',\n",
    "                'NUMBER OF PERSONS INJURED','NUMBER OF PERSONS KILLED',\n",
    "                'NUMBER OF PEDESTRIANS INJURED','NUMBER OF PEDESTRIANS KILLED',\n",
    "                'NUMBER OF CYCLIST INJURED','NUMBER OF CYCLIST KILLED',\n",
    "                'NUMBER OF MOTORIST INJURED','NUMBER OF MOTORIST KILLED',\n",
    "               'CONTRIBUTING FACTOR VEHICLE 1', 'CONTRIBUTING FACTOR VEHICLE 2',\n",
    "               'CONTRIBUTING FACTOR VEHICLE 3', 'CONTRIBUTING FACTOR VEHICLE 4',\n",
    "               'CONTRIBUTING FACTOR VEHICLE 5', 'COLLISION_ID',\n",
    "               'VEHICLE_TYPE', 'VEHICLE TYPE CODE 2', 'VEHICLE TYPE CODE 3', \n",
    "               'VEHICLE TYPE CODE 4', 'VEHICLE TYPE CODE 5' ]\n",
    "\n",
    "df1 = pd.read_csv('crashes.csv', \n",
    "                  dtype = columnDataTypes,\n",
    "                  names = columnNames,\n",
    "                  parse_dates = dateOpts, \n",
    "                  header = 0,\n",
    "                  infer_datetime_format = True,\n",
    "                  skipinitialspace = True,\n",
    "                  usecols = columnsToRead )"
   ]
  },
  {
   "cell_type": "code",
   "execution_count": null,
   "id": "9cc3c230-3588-48a8-a064-5fabaa954ab1",
   "metadata": {},
   "outputs": [],
   "source": [
    "df1"
   ]
  },
  {
   "cell_type": "code",
   "execution_count": null,
   "id": "38154099-d0a1-41bc-9a10-4a3e9f7639b4",
   "metadata": {},
   "outputs": [],
   "source": [
    "for column in df1.columns:\n",
    "  print(column, \" - \", pd.api.types.infer_dtype( df1[column]) )"
   ]
  },
  {
   "cell_type": "code",
   "execution_count": null,
   "id": "1734c9c9-e8ca-4c53-873d-fb4609ccc99f",
   "metadata": {},
   "outputs": [],
   "source": [
    "df1['degree'] = df1[['NUMBER OF PEDESTRIANS INJURED', 'NUMBER OF PEDESTRIANS KILLED',\n",
    "                     'NUMBER OF CYCLIST INJURED', 'NUMBER OF CYCLIST KILLED',\n",
    "                     'NUMBER OF MOTORIST INJURED', 'NUMBER OF MOTORIST KILLED']].sum(axis = 1)"
   ]
  },
  {
   "cell_type": "code",
   "execution_count": null,
   "id": "6f310aaa-4563-4f14-b46f-753a104dabb4",
   "metadata": {},
   "outputs": [],
   "source": [
    "fig = px.histogram(df1, x=\"degree\")\n",
    "fig.show()"
   ]
  },
  {
   "cell_type": "code",
   "execution_count": null,
   "id": "b6238dd3-4f1d-4fd1-803b-2b3ebd6c2229",
   "metadata": {},
   "outputs": [],
   "source": [
    "#df1.drop( axis = 0, index = df1[ df1['degree'] == 0 ].index, inplace = True )"
   ]
  },
  {
   "cell_type": "code",
   "execution_count": null,
   "id": "b1985cc7",
   "metadata": {},
   "outputs": [],
   "source": [
    "fig = px.histogram(df1, x=\"degree\")\n",
    "fig.show()"
   ]
  },
  {
   "cell_type": "code",
   "execution_count": null,
   "id": "76c75a19-8ee8-4e33-ba88-f59689c4e37e",
   "metadata": {},
   "outputs": [],
   "source": [
    "df1.shape"
   ]
  },
  {
   "cell_type": "code",
   "execution_count": null,
   "id": "756ac687",
   "metadata": {},
   "outputs": [],
   "source": [
    "df1['pedestrians'] = df1[['NUMBER OF PEDESTRIANS INJURED', 'NUMBER OF PEDESTRIANS KILLED',]].sum(axis = 1)"
   ]
  },
  {
   "cell_type": "code",
   "execution_count": null,
   "id": "a8f6ba1f",
   "metadata": {},
   "outputs": [],
   "source": [
    "df1['pedestrians'] = df1['pedestrians'].apply(lambda x : 1 if x > 0 else 0) "
   ]
  },
  {
   "cell_type": "code",
   "execution_count": null,
   "id": "14386656",
   "metadata": {},
   "outputs": [],
   "source": []
  },
  {
   "cell_type": "code",
   "execution_count": null,
   "id": "a0fc3713-a316-4829-9108-3b4d0ad7e4e3",
   "metadata": {},
   "outputs": [],
   "source": [
    "df1['pedestrians'].value_counts()"
   ]
  },
  {
   "cell_type": "code",
   "execution_count": null,
   "id": "baa7601d",
   "metadata": {},
   "outputs": [],
   "source": [
    "classMap = {\n",
    "    0 : 'S',\n",
    "    1 : 'M',\n",
    "    2 : 'P',\n",
    "    3 : 'MP',\n",
    "    4 : 'C',\n",
    "    5 : 'MC',\n",
    "    6 : 'CP',\n",
    "    7 : 'MPC'\n",
    "}\n",
    "df1['class'] = df1['class'].map(classMap)\n",
    "df1['class'].value_counts()"
   ]
  },
  {
   "cell_type": "code",
   "execution_count": null,
   "id": "ec91becb",
   "metadata": {},
   "outputs": [],
   "source": [
    "fig = px.histogram(df1, x=\"class\")\n",
    "fig.show()"
   ]
  },
  {
   "cell_type": "markdown",
   "id": "fbf24c9a",
   "metadata": {},
   "source": [
    "#### -ignore- Drop data before 2019"
   ]
  },
  {
   "cell_type": "code",
   "execution_count": null,
   "id": "37a56a36",
   "metadata": {},
   "outputs": [],
   "source": [
    "df1.set_index(['DATETIME'], inplace=True)"
   ]
  },
  {
   "cell_type": "code",
   "execution_count": null,
   "id": "c6743902",
   "metadata": {},
   "outputs": [],
   "source": [
    "df1.shape"
   ]
  },
  {
   "cell_type": "code",
   "execution_count": null,
   "id": "20bb95a9",
   "metadata": {},
   "outputs": [],
   "source": [
    "df1.columns"
   ]
  },
  {
   "cell_type": "code",
   "execution_count": null,
   "id": "5ba425e1",
   "metadata": {},
   "outputs": [],
   "source": [
    "df1.drop( axis = 0, index = df1[:\"12/31/2018\"].index, inplace = True)\n",
    "df1.shape"
   ]
  },
  {
   "cell_type": "code",
   "execution_count": null,
   "id": "ed07f1dd",
   "metadata": {},
   "outputs": [],
   "source": [
    "df2 = df1[ (df1.LATITUDE > 40.4) & (df1.LATITUDE < 41.0) & df1.LATITUDE.notna() ]"
   ]
  },
  {
   "cell_type": "code",
   "execution_count": null,
   "id": "f3d8da22",
   "metadata": {},
   "outputs": [],
   "source": [
    "df2.shape"
   ]
  },
  {
   "cell_type": "code",
   "execution_count": null,
   "id": "39dee659",
   "metadata": {},
   "outputs": [],
   "source": [
    "df3 = df2[(df2.LONGITUDE > -74.4) & (df2.LONGITUDE < -73.6) & df2.LONGITUDE.notna() ]"
   ]
  },
  {
   "cell_type": "code",
   "execution_count": null,
   "id": "0105b11d",
   "metadata": {},
   "outputs": [],
   "source": [
    "df3.shape"
   ]
  },
  {
   "cell_type": "code",
   "execution_count": null,
   "id": "8ee231c6",
   "metadata": {},
   "outputs": [],
   "source": [
    "df4 = df3.dropna( axis = 0, subset = ['VEHICLE_TYPE'] )"
   ]
  },
  {
   "cell_type": "code",
   "execution_count": null,
   "id": "22877d67-d637-4f36-b924-416ef4182fc6",
   "metadata": {},
   "outputs": [],
   "source": [
    "df4.shape"
   ]
  },
  {
   "cell_type": "code",
   "execution_count": null,
   "id": "8de4cca4-ad65-46f6-904d-8ae94c465fbf",
   "metadata": {},
   "outputs": [],
   "source": [
    "df4['STREET_NAME'] = df4['ON_STREET_NAME'].str.strip()"
   ]
  },
  {
   "cell_type": "code",
   "execution_count": null,
   "id": "04b2b83f",
   "metadata": {},
   "outputs": [],
   "source": [
    "df4.shape"
   ]
  },
  {
   "cell_type": "code",
   "execution_count": null,
   "id": "e4a12716",
   "metadata": {},
   "outputs": [],
   "source": [
    "df4.columns"
   ]
  },
  {
   "cell_type": "code",
   "execution_count": null,
   "id": "e2aa26f7",
   "metadata": {},
   "outputs": [],
   "source": [
    "df4.reset_index(inplace = True)\n",
    "df4.columns"
   ]
  },
  {
   "cell_type": "code",
   "execution_count": null,
   "id": "524ddbe4",
   "metadata": {},
   "outputs": [],
   "source": [
    "df4.insert( loc = 1, column = 'Week',  value = df4['DATETIME'].dt.isocalendar().week )"
   ]
  },
  {
   "cell_type": "code",
   "execution_count": null,
   "id": "038703b1-72ab-4b89-bdea-b6ae14118652",
   "metadata": {},
   "outputs": [],
   "source": [
    "week53index = df4[df4.Week == 53].index\n",
    "df4.drop( axis = 0, index = week53index, inplace = True)"
   ]
  },
  {
   "cell_type": "code",
   "execution_count": null,
   "id": "ef883112",
   "metadata": {},
   "outputs": [],
   "source": [
    "df4.insert( loc = 1, column = 'Weekday', value  = df4['DATETIME'].dt.weekday )"
   ]
  },
  {
   "cell_type": "code",
   "execution_count": null,
   "id": "d768b766",
   "metadata": {},
   "outputs": [],
   "source": [
    "#df4.insert( loc = 1, column = 'Year', value = df4['DATETIME'].dt.year.astype('str') )"
   ]
  },
  {
   "cell_type": "code",
   "execution_count": null,
   "id": "92b7e706-4b4a-48d4-b747-bc612f5e882f",
   "metadata": {},
   "outputs": [],
   "source": [
    "timeOfDayMap = {\n",
    "    1 : \"weehours\", 2 : \"weehours\", 3 : \"weehours\", 4 : \"weehours\",\n",
    "    5 : \"dawn\", 6 : \"dawn\", 7 :  \"dawn\",\n",
    "    8 : \"morning\", 9 : \"morning\", 10 : \"morning\", 11 : \"morning\",\n",
    "    12 : \"noon\", 13 : \"noon\", 14 : \"noon\",\n",
    "    15 : \"afternoon\", 16 : \"afternoon\",\n",
    "    17 : \"evening\", 18 : \"evening\", 19 : \"evening\", 20 : \"evening\",\n",
    "    21 : \"night\", 22 : \"night\", 23 : \"night\", 0 : \"midnight\", \n",
    "}\n",
    "df4.insert( loc = 1, column = 'timeOfDay', value = df4['DATETIME'].dt.hour.map(timeOfDayMap))"
   ]
  },
  {
   "cell_type": "code",
   "execution_count": null,
   "id": "1c1d162d-af94-4a0a-9e41-850e99de7b72",
   "metadata": {},
   "outputs": [],
   "source": [
    "df4.insert( loc = 1, column = 'hour', value = df4['DATETIME'].dt.hour)"
   ]
  },
  {
   "cell_type": "code",
   "execution_count": null,
   "id": "3cf171db-d822-4fc1-812b-b9497f067146",
   "metadata": {},
   "outputs": [],
   "source": [
    "df4.shape"
   ]
  },
  {
   "cell_type": "code",
   "execution_count": null,
   "id": "caab66e1-a262-48ba-8799-ae7854aa1617",
   "metadata": {},
   "outputs": [],
   "source": [
    "df4.columns"
   ]
  },
  {
   "cell_type": "code",
   "execution_count": null,
   "id": "a049903e-3fff-4d27-8b0f-b127ae108353",
   "metadata": {},
   "outputs": [],
   "source": [
    "df4.dtypes"
   ]
  },
  {
   "cell_type": "code",
   "execution_count": null,
   "id": "2fb7c225-90d8-4f10-9ccf-f44bf94e09da",
   "metadata": {},
   "outputs": [],
   "source": [
    "df4"
   ]
  },
  {
   "cell_type": "code",
   "execution_count": null,
   "id": "fa180516-8fd6-419d-a13e-bac8272e4961",
   "metadata": {},
   "outputs": [],
   "source": [
    "#df4.loc[ df4.VEHICLE_TYPE.isna(), ('VEHICLE_TYPE') ] = \"unknown\"\n",
    "#df4.VEHICLE_TYPE.isna()"
   ]
  },
  {
   "cell_type": "code",
   "execution_count": null,
   "id": "43d529c2-dd7c-47a2-b9af-def4ca9fc44c",
   "metadata": {},
   "outputs": [],
   "source": [
    "fig = px.histogram(df4, x=\"class\")\n",
    "fig.show()"
   ]
  },
  {
   "cell_type": "code",
   "execution_count": null,
   "id": "ae9c5c48-b423-41ec-ade8-c3c43a7edc3f",
   "metadata": {},
   "outputs": [],
   "source": [
    "vehicleColumns = ['COLLISION_ID','CRASH_DATE','CRASH_TIME','VEHICLE_ID','VEHICLE_TYPE','TRAVEL_DIRECTION','VEHICLE_OCCUPANTS','DRIVER_SEX','PRE_CRASH','POINT_OF_IMPACT','VEHICLE_DAMAGE','PUBLIC_PROPERTY_DAMAGE','CONTRIBUTING_FACTOR_1','CONTRIBUTING_FACTOR_2']\n",
    "vehicleColumns = ['COLLISION_ID','VEHICLE_TYPE', 'TRAVEL_DIRECTION','DRIVER_SEX',]\n",
    "columnDataTypes = { 'COLLISION_ID' : 'str','VEHICLE_TYPE': 'str', 'VEHICLE_ID' : 'str', 'VEHICLE_MAKE' : 'str', 'TRAVEL_DIRECTION' : 'str','DRIVER_SEX' : 'str', 'PRE_CRASH' : 'str' } \n",
    "carDF = pd.read_csv('vehicles.csv', dtype = columnDataTypes, usecols = vehicleColumns )"
   ]
  },
  {
   "cell_type": "code",
   "execution_count": null,
   "id": "333171db-d90e-4056-9801-a8642fa116fb",
   "metadata": {},
   "outputs": [],
   "source": [
    "dishaMap = { \n",
    "    'North' : 'north', \n",
    "    'East' : 'east', \n",
    "    'Southeast' : 'southeast', \n",
    "    'Unknown': np.nan, \n",
    "    'Northwest' : 'northwest', \n",
    "    'Northeast' : 'northeast',\n",
    "    'West' : 'west', \n",
    "    'South' : 'south', \n",
    "    'Southwest' : 'southwest', \n",
    "    'E' : 'east', \n",
    "    'N' : 'north', \n",
    "    'W' : 'west', \n",
    "    'S' : 'south', \n",
    "    '-' : np.nan }"
   ]
  },
  {
   "cell_type": "code",
   "execution_count": null,
   "id": "9a30c5e7-0373-4c16-9a9b-6f56963a851a",
   "metadata": {},
   "outputs": [],
   "source": [
    "carDF.TRAVEL_DIRECTION = carDF.TRAVEL_DIRECTION.map(dishaMap)"
   ]
  },
  {
   "cell_type": "code",
   "execution_count": null,
   "id": "0a69b738-aa8a-43ce-ad1f-88042233659e",
   "metadata": {},
   "outputs": [],
   "source": [
    "carDF2 = carDF.dropna( axis = 0, subset = ['DRIVER_SEX', 'TRAVEL_DIRECTION'] )"
   ]
  },
  {
   "cell_type": "code",
   "execution_count": null,
   "id": "2f0b71bf-4f5c-4124-9a30-c8d2aa38a836",
   "metadata": {},
   "outputs": [],
   "source": [
    "carDF2"
   ]
  },
  {
   "cell_type": "code",
   "execution_count": null,
   "id": "d2e48e6e-0549-4a96-bbff-884b9930decd",
   "metadata": {},
   "outputs": [],
   "source": [
    "carDF2.VEHICLE_TYPE[carDF2.VEHICLE_TYPE.isna()] = \"unknown\""
   ]
  },
  {
   "cell_type": "code",
   "execution_count": null,
   "id": "8d02f697-334a-4a94-a014-eccaf5dc236c",
   "metadata": {},
   "outputs": [],
   "source": [
    "carDF2.VEHICLE_TYPE.isna().value_counts()"
   ]
  },
  {
   "cell_type": "code",
   "execution_count": null,
   "id": "80510c70-e27d-47e6-bf65-88d6956d837d",
   "metadata": {},
   "outputs": [],
   "source": [
    "#print(\"{\")\n",
    "#for x in list(carDF.VEHICLE_TYPE.unique()):\n",
    "#    print(\"'\" + x + \"' : ,\" )\n",
    "#print(\"}\")"
   ]
  },
  {
   "cell_type": "code",
   "execution_count": null,
   "id": "9cf499cb-1cfa-4f83-bbb8-9976c7e25fba",
   "metadata": {},
   "outputs": [],
   "source": [
    "# Select VEHICLE_ID, TRAVEL_DIRECTION, VEHICLE_OCCUPANTS, DRIVER_SEX, PRE_CRASH where collision id and vehicle type\n",
    "carCrashDF = pd.merge(df4, carDF2, left_on=['COLLISION_ID', 'VEHICLE_TYPE'], right_on =['COLLISION_ID', 'VEHICLE_TYPE'] )"
   ]
  },
  {
   "cell_type": "code",
   "execution_count": null,
   "id": "c90d7bf5-2d76-4206-8caa-1060afe10171",
   "metadata": {},
   "outputs": [],
   "source": [
    "carCrashDF.columns"
   ]
  },
  {
   "cell_type": "code",
   "execution_count": null,
   "id": "6929acc2-127e-4b60-acb7-1f6a38c3ad63",
   "metadata": {},
   "outputs": [],
   "source": [
    "carCrashDF"
   ]
  },
  {
   "cell_type": "code",
   "execution_count": null,
   "id": "aeace28a-5fdf-456f-ac0b-41d6be51f2a8",
   "metadata": {},
   "outputs": [],
   "source": [
    "#list(carCrashDF.VEHICLE_TYPE.unique())"
   ]
  },
  {
   "cell_type": "code",
   "execution_count": null,
   "id": "b925b14a-1893-4d12-92e6-8ef40ea5d081",
   "metadata": {},
   "outputs": [],
   "source": [
    "personColumns = [ 'COLLISION_ID', 'PERSON_AGE', 'PED_ROLE', 'PERSON_SEX']\n",
    "columnTypes = {  'COLLISION_ID' : 'str', 'VEHICLE_ID' : 'str', 'PERSON_AGE' : 'Int64', 'PED_ROLE' : 'str', 'PERSON_SEX' : 'str'}\n",
    "personDF = pd.read_csv('person.csv', dtype = columnTypes, usecols = personColumns )\n",
    "personDF"
   ]
  },
  {
   "cell_type": "code",
   "execution_count": null,
   "id": "69ef1dd4-1a20-4be4-97e0-de27195f8d7c",
   "metadata": {},
   "outputs": [],
   "source": [
    "personDF2 = personDF.dropna( axis = 0, subset = ['PERSON_SEX', 'PERSON_AGE'] )"
   ]
  },
  {
   "cell_type": "code",
   "execution_count": null,
   "id": "67d8905c-da1c-4537-a572-95dacc7c06d5",
   "metadata": {},
   "outputs": [],
   "source": [
    "driverDF = personDF2[ (personDF2.PED_ROLE == \"Driver\") & (personDF2.PERSON_SEX != 'U') ].copy()\n",
    "driverDF.shape"
   ]
  },
  {
   "cell_type": "code",
   "execution_count": null,
   "id": "028009a7-19aa-4ddc-b50b-f4c0261f0884",
   "metadata": {},
   "outputs": [],
   "source": [
    "driverDF.PERSON_SEX.value_counts()"
   ]
  },
  {
   "cell_type": "code",
   "execution_count": null,
   "id": "ddb9f3bf-b991-4676-8e64-7eadf728865c",
   "metadata": {},
   "outputs": [],
   "source": [
    "driverCarCrashDF = pd.merge(carCrashDF, driverDF,left_on=['COLLISION_ID', 'DRIVER_SEX'], right_on =['COLLISION_ID', 'PERSON_SEX'] )\n",
    "driverCarCrashDF"
   ]
  },
  {
   "cell_type": "code",
   "execution_count": null,
   "id": "a8264f1f-d0da-45cd-ad80-f1d336e208d9",
   "metadata": {},
   "outputs": [],
   "source": [
    "#ATV, bicycle, car/suv, ebike, escooter, truck/bus, motorcycle, other)\n",
    "\n",
    "vehicleTypeMap = { 'Station Wagon/Sport Utility Vehicle' : 'suv', \n",
    "  'Moped' : 'motorcycle', \n",
    "  'Tanker' : 'truck',\n",
    "  '4 dr sedan' : 'car', \n",
    "  'E-Scooter': 'motorcycle', \n",
    "  'Taxi' : 'car', \n",
    "  'Motorcycle': 'motorcycle', \n",
    "  'Sedan' : 'car', \n",
    "  'E-Bike' : 'ebike',\n",
    "  'SCOOTER': 'motorcycle', \n",
    "  'Box Truck': 'truck', \n",
    "  'Bike': 'bicycle', \n",
    "  'Motorscooter': 'motorcycle', \n",
    "  'TAXI' : 'car' ,\n",
    "  'PASSENGER VEHICLE' : 'bus', \n",
    "   np.nan: 'other', \n",
    "  'Tractor Truck Diesel': 'truck', \n",
    "  'Pick-up Truck': 'truck',\n",
    "  'BUS' : 'bus', \n",
    "  'SPORT UTILITY / STATION WAGON' : 'suv', \n",
    "  'Tow Truck / Wrecker': 'truck',\n",
    "  '3-Door' : 'car', \n",
    "  'Flat Bed' : 'truck', \n",
    "  'Van' : 'bus', \n",
    "  'OTHER' : 'other', \n",
    "  'SMALL COM VEH(4 TIRES) ' : 'truck',\n",
    "  'Dump': 'truck', \n",
    "  'LIVERY VEHICLE' : 'van', \n",
    "  'MOTORCYCLE' : 'motorcycle', \n",
    "  'E-Bik' : 'ebike', \n",
    "  'Concrete Mixer': 'truck',\n",
    "  'VAN' : 'bus', \n",
    "  'UNKNOWN' : 'unknown', \n",
    "  'Bus' : 'bus', \n",
    "  'BICYCLE' : 'bicycle',\n",
    "  'LARGE COM VEH(6 OR MORE TIRES)': 'truck', \n",
    "  'AMBU': 'truck', \n",
    "  'AMBULANCE' : 'truck',\n",
    "  'PICK-UP TRUCK': 'truck', \n",
    "  'Convertible': 'car', \n",
    "  '2 dr sedan' : 'car', \n",
    "  'FIRE TRUCK': 'truck',\n",
    "  'seagr': 'other', \n",
    "  'Gas Scoote' : 'motorcycle', \n",
    "  'E BIK' : 'ebike', \n",
    "  'MOPED': 'motorcycle', \n",
    "  'Ambulance' : 'truck', \n",
    "  'Com' : 'truck',\n",
    "  'Open Body' : 'car', \n",
    "  'P/SH' : 'suv',  \n",
    "  'Minicycle' : 'bicycle', \n",
    "  'Garbage or Refuse': 'truck', \n",
    "  'BICYC' : 'bicycle',\n",
    "  'POSTAL TRU': 'truck', \n",
    "  'PK' : 'truck', \n",
    "  'Motorbike' : 'motorcycle', \n",
    "  'School Bus' : 'bus' , \n",
    "  'Hopper' : 'truck', \n",
    "  'UTILITY' : 'truck',\n",
    "  'Carry All' : 'truck', \n",
    "  'bus' : 'bus', \n",
    "  'DELIV': 'truck', \n",
    "  'TRuck': 'truck', \n",
    "  'dump': 'truck', \n",
    "  'BOBCA': 'utility', \n",
    "  'FORKL': 'utility',\n",
    "  'NY CITY MT' : 'bus', \n",
    "  'MACK' : 'truck', \n",
    "  'limou' : 'car', \n",
    "  'GARBA' : 'truck', \n",
    "  'STAK' : 'truck', \n",
    "  'Refrigerated Van' : 'truck',\n",
    "  'MTA B' : 'bus', \n",
    "  'Power Shov' : 'utility', \n",
    "  'scoo': 'motorcycle', \n",
    "  'Dodge' : 'truck', \n",
    "  'Fork lift' : 'utility', \n",
    "  'motor' : 'motorcycle',\n",
    "  'TRUCK' : 'truck', \n",
    "  'LIMO' : 'car', \n",
    "  'tow' : 'truck', \n",
    "  'PICK UP' : 'truck', \n",
    "  'scooter': 'motorcycle', \n",
    "  'fork' : 'utility', \n",
    "  'fire' : 'truck',\n",
    "  'E-Sco' : 'ebike', \n",
    "  'Lift Boom' : 'utility', \n",
    "  'Forklift' : 'utility', \n",
    "  'GARBAGE TR' : 'truck', \n",
    "  'Flat Rack' : 'truck',\n",
    "  'Multi-Wheeled Vehicle' : 'truck', \n",
    "  'Tractor Truck Gasoline' : 'truck', \n",
    "  'Pedicab' : 'bicycle',\n",
    "  'Posta' : 'truck', \n",
    "  'Pass' : 'bus', \n",
    "  'USPS' : 'truck', \n",
    "  'MOTOR' : 'motorcycle', \n",
    "  'moped' : 'motorcycle', \n",
    "  'FDNY' : 'truck', \n",
    "  'TRAC' : 'truck', \n",
    "  'van' : 'bus',\n",
    "  'Rescu' : 'truck', \n",
    "  'FORK' : 'utility', \n",
    "  'Chassis Cab' : 'truck', \n",
    "  'COM' : 'truck', \n",
    "  '4D' : 'suv', \n",
    "  'Pick' : 'truck', \n",
    "  'DELV' : 'truck',\n",
    "  'kick scoot' : 'bicycle', \n",
    "  'Yamaha': 'motorcycle', \n",
    "  'Tow Truck' : 'truck', \n",
    "  'Beverage Truck' : 'truck',\n",
    "  'PEPSI DELI' : 'truck', \n",
    "  'PEDICAB' : 'other', \n",
    "  'pedicab' : 'other', \n",
    "  'Pickup with mounted Camper' : 'truck',\n",
    "  'NYPD' : 'car', \n",
    "  'Armored Truck' : 'truck', \n",
    "  'COMM' : 'truck', \n",
    "  'Sweeper' : 'truck', \n",
    "  'TRANSIT' : 'bus',  \n",
    "  'POWER' : 'truck',\n",
    "  'fdny' : 'truck', \n",
    "  'SUV' : 'suv', \n",
    "  'SCHOO' : 'bus', \n",
    "  'ELECT' : 'ebike', \n",
    "  'BOX TRUCK' : 'truck',  \n",
    "  'TRACTOR' : 'truck', \n",
    "  'AMBUL' : 'truck',\n",
    "  'A,n' : 'other', \n",
    "  'Suv' : 'suv', \n",
    "  'FDNY EMS' : 'truck', \n",
    "  'truck' : 'truck', \n",
    "  'OMR' : 'other', \n",
    "  'TRACT' : 'truck', \n",
    "  'FLATBED' : 'truck',\n",
    "  'unkow' : 'other', \n",
    "  'MOTOR SCOO': 'motorcycle', \n",
    "  'US POSTAL' : 'truck', \n",
    "  '2 WHE' : 'motorcycle', \n",
    "  'Lunch Wagon' : 'truck',\n",
    "  'WAGON' : 'truck', \n",
    "  'OMT' : 'truck', \n",
    "  'Stake or Rack' : 'truck', \n",
    "  'nat grid t' : 'truck', \n",
    "  'police rep' : 'car',\n",
    "  'TRAIL' : 'truck', \n",
    "  'SCHOOL BUS' : 'bus', \n",
    "  'FIRE' : 'truck', \n",
    "  'SEGWA' : 'ebike', \n",
    "  'Ambul' : 'truck', \n",
    "  'trail' : 'truck',\n",
    "  'Bulk Agriculture' : 'utility', \n",
    "  'U-HAL' : 'truck', \n",
    "  'Scoot': 'motorcycle', \n",
    "  'E-scooter' : 'ebike', \n",
    "  'AMBULENCE' : 'truck',\n",
    "  'SELF INSUR' : 'other', \n",
    "  'Motorscoot': 'motorcycle', \n",
    "  'Subr' : 'bus', \n",
    "  'CONST' : 'truck', \n",
    "  'tr/tr' : 'truck', \n",
    "  'SCOOT': 'motorcycle',\n",
    "  'Post offic' : 'truck', \n",
    "  'Mopped': 'motorcycle', \n",
    "  'work' : 'truck', \n",
    "  'FIRET' : 'truck', \n",
    "  'WHITE' : 'truck', \n",
    "  'TANK' : 'truck',\n",
    "  'Unknown' : 'other', \n",
    "  'CEMENT TRU' : 'truck', \n",
    "  'TOW TRUCK' : 'truck', \n",
    "  'MOPAD': 'motorcycle', \n",
    "  '50cc mini': 'motorcycle',\n",
    "  'APPOR' : '', \n",
    "  'Scooter': 'motorcycle', \n",
    "  'ROAD SWEEP' : 'truck', \n",
    "  'SELF' : 'truck', \n",
    "  'AMB' : 'truck', \n",
    "  'GAS SCOOTE' : 'motorcycle',\n",
    "  'RV' : 'bus', \n",
    "  'Motor' : 'motorcycle', \n",
    "  'gas scoote' : 'motorcycle', \n",
    "  'UNKNO' : 'unknown', \n",
    "  'Tractor' : 'truck', \n",
    "  'SEDAN' : 'car',\n",
    "  'Ford picku' : 'truck', \n",
    "  'ELECTRIC S' : 'escooter', \n",
    "  'PAS' : 'bus', \n",
    "  'Elect' : 'ebike', \n",
    "  'suv' : 'suv', \n",
    "  'US MA' : 'truck',\n",
    "  'Dump truck' : 'truck', \n",
    "  'comm' : 'truck',  \n",
    "  'Fire' : 'truck', \n",
    "  'PC' : 'truck', \n",
    "  'COMME' : 'truck', \n",
    "  'DUMP' : 'truck', \n",
    "  'Minibike': 'motorcycle',\n",
    "  'Snow Plow' : 'truck', \n",
    "  'PSD' : 'truck', \n",
    "  'Trail' : 'truck', \n",
    "  'trailer' : 'truck', \n",
    "  'COMMERCIAL' : 'truck', \n",
    "  'MOPD': 'motorcycle',\n",
    "  'BOX T' : 'truck', \n",
    "  'SUBR' : 'bus', \n",
    "  'ambul' : 'truck', \n",
    "  'E-BIK' : 'ebike', \n",
    "  'DEIV' : 'truck', \n",
    "  'FDNY FIRE' : 'truck',\n",
    "  'Enclosed Body - Removable Enclosure' : 'truck', \n",
    "  'GEICO' : 'other' , \n",
    "  'LMB'  : 'truck',\n",
    "  'Fire Truck' : 'truck', \n",
    "  'scoot': 'motorcycle', \n",
    "  'fire truck' : 'truck', \n",
    "  'Grumman LL' : 'truck', \n",
    "  'posta' : 'truck', \n",
    "  'SCL' : 'bus',\n",
    "  'E-bike' : 'ebike', \n",
    "  'Tractor tr' : 'truck', \n",
    "  'garbage tr' : 'truck', \n",
    "  'VAN T' : 'truck', \n",
    "  'BOX H' : 'truck', \n",
    "  'stree' : 'car',\n",
    "  'tow t' : 'truck', \n",
    "  'Cat 9' : 'truck', \n",
    "  'VERZION VA' : 'truck', \n",
    "  'School bus' : 'bus', \n",
    "  'SANIT' : 'truck',\n",
    "  'E REVEL SC' : 'escooter', \n",
    "  'Motorized' : 'bicycle', \n",
    "  'box t' : 'truck', \n",
    "  'OIL T' : 'truck', \n",
    "  'TRAILER' : 'truck', \n",
    "  'schoo' : 'bus' }"
   ]
  },
  {
   "cell_type": "code",
   "execution_count": null,
   "id": "07b6dd0d-2a14-4ee1-9871-c061a0385d53",
   "metadata": {},
   "outputs": [],
   "source": [
    "driverCarCrashDF.insert( loc = 1, column = 'vehicleType', value = driverCarCrashDF['VEHICLE_TYPE'].map(vehicleTypeMap))"
   ]
  },
  {
   "cell_type": "code",
   "execution_count": null,
   "id": "72640e03-eeae-422f-85d4-94f40d2d5305",
   "metadata": {},
   "outputs": [],
   "source": [
    "driverCarCrashDF.vehicleType = driverCarCrashDF.vehicleType.apply ( lambda x : x if x in ['suv', 'truck', 'car', 'motorcycle', 'bicycle', 'bus', 'ebike', 'utility', 'escooter'] else \"other\" )\n",
    "driverCarCrashDF.vehicleType"
   ]
  },
  {
   "cell_type": "code",
   "execution_count": null,
   "id": "4b0b305b-252e-4ad6-bbfa-cd310df27feb",
   "metadata": {},
   "outputs": [],
   "source": [
    "driverCarCrashDF"
   ]
  },
  {
   "cell_type": "code",
   "execution_count": null,
   "id": "0184d1ff-bd67-4fd5-ab26-150cfe5a2ff5",
   "metadata": {},
   "outputs": [],
   "source": [
    "#df4.vehicleType.hist()\n",
    "fig = px.histogram(driverCarCrashDF, x=\"vehicleType\")\n",
    "fig.show()"
   ]
  },
  {
   "cell_type": "code",
   "execution_count": null,
   "id": "78e9197e-d3e0-445f-b479-c93d9842c132",
   "metadata": {},
   "outputs": [],
   "source": [
    "#df4.timeOfDay.hist()\n",
    "times = [ 'weehours', 'dawn', 'morning', 'noon', 'afternoon', 'evening', 'night', 'midnight']\n",
    "fig = px.histogram(driverCarCrashDF, \n",
    "                   x=\"timeOfDay\", \n",
    "                   category_orders=dict(timeOfDay = times ))\n",
    "fig.show()"
   ]
  },
  {
   "cell_type": "code",
   "execution_count": null,
   "id": "2da7e3ac-03b0-4d3d-bd87-ffe63683a0cf",
   "metadata": {
    "tags": []
   },
   "outputs": [],
   "source": [
    "Weeks = sorted(driverCarCrashDF.Week.unique().astype(int))\n",
    "fig = px.histogram(driverCarCrashDF, x=\"Week\", category_orders=dict(Week=Weeks))\n",
    "fig.show()"
   ]
  },
  {
   "cell_type": "code",
   "execution_count": null,
   "id": "f70a17ca",
   "metadata": {},
   "outputs": [],
   "source": [
    "streets = driverCarCrashDF[['LATITUDE', 'LONGITUDE', 'STREET_NAME']].copy()\n",
    "#.drop_duplicates(subset = ['ON STREET NAME'], inplace=True)\n",
    "streets.drop_duplicates(subset = ['LATITUDE', 'LONGITUDE'], inplace=True)\n",
    "streets.to_csv('streets.csv', index=False)"
   ]
  },
  {
   "cell_type": "code",
   "execution_count": null,
   "id": "d6f642ce-5fad-4f4c-83cc-f6b5c553373f",
   "metadata": {},
   "outputs": [],
   "source": [
    "driverCarCrashDF2 = driverCarCrashDF.groupby(['STREET_NAME', 'Week', 'degree'], group_keys=False).apply(lambda x: x.sample(frac=0.6))"
   ]
  },
  {
   "cell_type": "code",
   "execution_count": null,
   "id": "266119cd",
   "metadata": {},
   "outputs": [],
   "source": [
    "driverCarCrashDF2.shape"
   ]
  },
  {
   "cell_type": "code",
   "execution_count": null,
   "id": "46dcd6ea",
   "metadata": {},
   "outputs": [],
   "source": [
    "fig = px.histogram(driverCarCrashDF2, x=\"class\")\n",
    "fig.show()"
   ]
  },
  {
   "cell_type": "code",
   "execution_count": null,
   "id": "5ebda9c7-cd26-48a4-ae21-7a4bf1b8ccde",
   "metadata": {},
   "outputs": [],
   "source": [
    "#df4.vehicleType.hist()\n",
    "fig = px.histogram(driverCarCrashDF2, x=\"vehicleType\")\n",
    "fig.show()"
   ]
  },
  {
   "cell_type": "code",
   "execution_count": null,
   "id": "609b0a11-11ca-4cc4-af83-6b156aafd2c4",
   "metadata": {},
   "outputs": [],
   "source": [
    "#df4.timeOfDay.hist()\n",
    "times = [ 'weehours', 'dawn', 'morning', 'noon', 'afternoon', 'evening', 'night', 'midnight']\n",
    "fig = px.histogram(driverCarCrashDF2, \n",
    "                   x=\"timeOfDay\", \n",
    "                   category_orders=dict(timeOfDay = times ))\n",
    "fig.show()"
   ]
  },
  {
   "cell_type": "code",
   "execution_count": null,
   "id": "35b72d3b-3f51-420a-b3b7-aee3c05aaca6",
   "metadata": {},
   "outputs": [],
   "source": [
    "Weeks = sorted(driverCarCrashDF2.Week.unique().astype(int))\n",
    "fig = px.histogram(driverCarCrashDF2, x=\"Week\", category_orders=dict(Week=Weeks))\n",
    "fig.show()"
   ]
  },
  {
   "cell_type": "code",
   "execution_count": null,
   "id": "9e451fd9",
   "metadata": {},
   "outputs": [],
   "source": [
    "for column in driverCarCrashDF2.columns:\n",
    "  print(column, \" - \", pd.api.types.infer_dtype( driverCarCrashDF2[column]) )"
   ]
  },
  {
   "cell_type": "code",
   "execution_count": null,
   "id": "9b8d107b-82e4-4d95-96f0-0e9eccbad8fb",
   "metadata": {},
   "outputs": [],
   "source": [
    "#driverCarCrashDF.to_csv('personCarCrash_big.csv')\n",
    "#driverCarCrashDF2.to_csv('personCarCrash_sampled.csv')"
   ]
  },
  {
   "cell_type": "code",
   "execution_count": null,
   "id": "5f166aca",
   "metadata": {},
   "outputs": [],
   "source": [
    "#columnsToAggregate = ['LATITUDE', 'LONGITUDE', 'COLLISION_ID',\n",
    "#                      'NUMBER OF PERSONS INJURED', 'NUMBER OF PERSONS KILLED',\n",
    "#                      'NUMBER OF PEDESTRIANS INJURED', 'NUMBER OF PEDESTRIANS KILLED',\n",
    "#                      'NUMBER OF CYCLIST INJURED', 'NUMBER OF CYCLIST KILLED',\n",
    "#                      'NUMBER OF MOTORIST INJURED', 'NUMBER OF MOTORIST KILLED', 'degree' ]#\n",
    "#\n",
    "#df6 =  df5.groupby(['ON STREET NAME', 'Week', 'Weekday'], as_index=False)[columnsToAggregate].mean( numeric_only = False)"
   ]
  },
  {
   "cell_type": "code",
   "execution_count": null,
   "id": "dd5235d2",
   "metadata": {},
   "outputs": [],
   "source": [
    "#df6.shape"
   ]
  },
  {
   "cell_type": "code",
   "execution_count": null,
   "id": "a5ee53e4-a0c2-4266-86ba-c7228e7a1ed9",
   "metadata": {},
   "outputs": [],
   "source": [
    "#df6.columns"
   ]
  },
  {
   "cell_type": "code",
   "execution_count": null,
   "id": "6e1f7178",
   "metadata": {
    "tags": []
   },
   "outputs": [],
   "source": [
    "#df6[columnsToAggregate].sum(axis=0)"
   ]
  },
  {
   "cell_type": "code",
   "execution_count": null,
   "id": "48cbf070-8636-4eb8-8d71-c524aba9f545",
   "metadata": {},
   "outputs": [],
   "source": [
    "#import numpy as np\n",
    "#\n",
    "#columnsToAggregate = ['NUMBER OF PERSONS INJURED', 'NUMBER OF PERSONS KILLED',\n",
    "#                      'NUMBER OF PEDESTRIANS INJURED', 'NUMBER OF PEDESTRIANS KILLED',\n",
    "#                      'NUMBER OF CYCLIST INJURED', 'NUMBER OF CYCLIST KILLED',\n",
    "#                      'NUMBER OF MOTORIST INJURED', 'NUMBER OF MOTORIST KILLED' ]\n",
    "#df6[columnsToAggregate] = np.log(df6[columnsToAggregate])"
   ]
  },
  {
   "cell_type": "code",
   "execution_count": null,
   "id": "c297a025-8e78-42a2-b245-c6b5355a53e4",
   "metadata": {},
   "outputs": [],
   "source": [
    "# dawn, morning,  noon,   afternoon,   dusk   evening,    night,  weehours\n",
    "# 5-8,  8-11,    11-14,    14-17,     17-20,  20-23,      23-2,   2-5"
   ]
  },
  {
   "cell_type": "code",
   "execution_count": null,
   "id": "d0b156c0-d696-4ef2-9d89-01db508cf603",
   "metadata": {},
   "outputs": [],
   "source": [
    "#px.set_mapbox_access_token(open(\".mapbox_token\").read())\n",
    "#fig = px.scatter_mapbox(driverCarCrashDF2, \n",
    "#                        lat=\"LATITUDE\", \n",
    "#                        lon=\"LONGITUDE\",\n",
    "#                        color=\"degree\",\n",
    "#                        color_continuous_scale=px.colors.sequential.Jet, \n",
    "#                        size_max=150, \n",
    "#                        zoom=10,\n",
    "#                        height=800)\n",
    "#fig.show()"
   ]
  },
  {
   "cell_type": "code",
   "execution_count": null,
   "id": "1e289cb8-bd65-4db9-890b-43f10a779b1d",
   "metadata": {},
   "outputs": [],
   "source": [
    "driverCarCrashDF2.shape"
   ]
  },
  {
   "cell_type": "code",
   "execution_count": null,
   "id": "67374e6c-d1cb-469f-b9c5-6b29ac93979c",
   "metadata": {},
   "outputs": [],
   "source": [
    "driverCarCrashDF2.notna().sum()"
   ]
  },
  {
   "cell_type": "markdown",
   "id": "b44d1b44-d6c1-404e-97cc-89b720fb0ea5",
   "metadata": {},
   "source": [
    "#### Clustering"
   ]
  },
  {
   "cell_type": "code",
   "execution_count": null,
   "id": "bd00a7c7-773a-4bc0-93a2-5ca564f98391",
   "metadata": {},
   "outputs": [],
   "source": [
    "driverCarCrashDF2.columns"
   ]
  },
  {
   "cell_type": "code",
   "execution_count": null,
   "id": "02cb8628-692a-481d-bd21-f8674da748dd",
   "metadata": {},
   "outputs": [],
   "source": [
    "driverCarCrashDF2.TRAVEL_DIRECTION.unique()"
   ]
  },
  {
   "cell_type": "code",
   "execution_count": null,
   "id": "0e369214-156c-4d15-bf67-e6e1b92ee711",
   "metadata": {},
   "outputs": [],
   "source": [
    "driverCarCrashDF3 = driverCarCrashDF2[['hour', 'Weekday', 'Week', \n",
    "                       'LATITUDE', 'LONGITUDE',  'STREET_NAME',\n",
    "                       'NUMBER OF PERSONS INJURED','NUMBER OF PERSONS KILLED', \n",
    "                       'NUMBER OF PEDESTRIANS INJURED', 'NUMBER OF PEDESTRIANS KILLED', \n",
    "                       'NUMBER OF CYCLIST INJURED', 'NUMBER OF CYCLIST KILLED', \n",
    "                       'NUMBER OF MOTORIST INJURED','NUMBER OF MOTORIST KILLED', \n",
    "                       'degree',\n",
    "                       'vehicleType', 'TRAVEL_DIRECTION', \n",
    "                       'DRIVER_SEX', 'PERSON_AGE', ]].copy()"
   ]
  },
  {
   "cell_type": "code",
   "execution_count": null,
   "id": "e70de738-67e4-4c22-a078-441978d3e218",
   "metadata": {},
   "outputs": [],
   "source": [
    "driverCarCrashDF3.shape"
   ]
  },
  {
   "cell_type": "code",
   "execution_count": null,
   "id": "a9db3225-0681-400e-9d2c-841f222d6afd",
   "metadata": {},
   "outputs": [],
   "source": [
    "for column in driverCarCrashDF3.columns:\n",
    "  print(column, \" - \", pd.api.types.infer_dtype( driverCarCrashDF3[column]) )"
   ]
  },
  {
   "cell_type": "code",
   "execution_count": null,
   "id": "bd6f8ec5-e91c-4ec3-8b6f-9c7128df648f",
   "metadata": {},
   "outputs": [],
   "source": [
    "vehicleOHE_DF = pd.get_dummies(driverCarCrashDF3.vehicleType)"
   ]
  },
  {
   "cell_type": "code",
   "execution_count": null,
   "id": "d8232acc-4a56-4866-b2d4-169fa3a24ad4",
   "metadata": {},
   "outputs": [],
   "source": [
    "directionOHE_DF = pd.get_dummies(driverCarCrashDF3.TRAVEL_DIRECTION)"
   ]
  },
  {
   "cell_type": "code",
   "execution_count": null,
   "id": "da0bdd9e-4139-4628-9229-32115f984d2b",
   "metadata": {},
   "outputs": [],
   "source": [
    "sexOHE_DF = pd.get_dummies(driverCarCrashDF3.DRIVER_SEX)"
   ]
  },
  {
   "cell_type": "code",
   "execution_count": null,
   "id": "33afef29-56bc-455b-ac2c-f6226b08527a",
   "metadata": {},
   "outputs": [],
   "source": [
    "driverCarCrashDF4 = driverCarCrashDF3.join( [vehicleOHE_DF, directionOHE_DF, sexOHE_DF] )\n",
    "driverCarCrashDF4 = driverCarCrashDF3"
   ]
  },
  {
   "cell_type": "code",
   "execution_count": null,
   "id": "4beca3f8-24c0-478e-aa44-1df6ea2129f0",
   "metadata": {},
   "outputs": [],
   "source": [
    "driverCarCrashDF4.columns"
   ]
  },
  {
   "cell_type": "code",
   "execution_count": null,
   "id": "10d0acbc-324c-4abc-b476-81ab76eea242",
   "metadata": {},
   "outputs": [],
   "source": []
  },
  {
   "cell_type": "code",
   "execution_count": null,
   "id": "8a085523-ddd4-4adc-ae93-49592c1e5d5f",
   "metadata": {},
   "outputs": [],
   "source": [
    "driverCarCrashDF4.dropna( axis = 0, subset = ['NUMBER OF PERSONS INJURED'], inplace = True )"
   ]
  },
  {
   "cell_type": "code",
   "execution_count": null,
   "id": "d37b2aa1-0c36-4374-8e16-52120d5d493a",
   "metadata": {},
   "outputs": [],
   "source": [
    "#driverCarCrashDF5 = driverCarCrashDF4.drop(\n",
    "#    labels = ['vehicleType', 'TRAVEL_DIRECTION', 'DRIVER_SEX',  'STREET_NAME', 'degree',\n",
    "#              'NUMBER OF PERSONS INJURED', \n",
    "#              'NUMBER OF PEDESTRIANS INJURED',\n",
    "#              'NUMBER OF CYCLIST INJURED', \n",
    "#              'NUMBER OF MOTORIST INJURED', ], \n",
    "#    axis = 1)"
   ]
  },
  {
   "cell_type": "code",
   "execution_count": null,
   "id": "5abecca5-dc59-4df1-9659-3823f83047ba",
   "metadata": {},
   "outputs": [],
   "source": [
    "driverCarCrashDF5 = driverCarCrashDF4.drop(\n",
    "    labels = ['vehicleType', 'TRAVEL_DIRECTION', 'DRIVER_SEX',  'STREET_NAME', 'degree',\n",
    "              'NUMBER OF PERSONS KILLED',\n",
    "              'NUMBER OF PEDESTRIANS KILLED',\n",
    "              'NUMBER OF CYCLIST KILLED',\n",
    "              'NUMBER OF MOTORIST KILLED'], \n",
    "    axis = 1)"
   ]
  },
  {
   "cell_type": "code",
   "execution_count": null,
   "id": "73bc136b-79d1-4e0e-aba8-094e10e4faec",
   "metadata": {},
   "outputs": [],
   "source": [
    "driverCarCrashDF5.shape"
   ]
  },
  {
   "cell_type": "code",
   "execution_count": null,
   "id": "e3eb0022-08c6-450d-b331-3e3c7bb0fefd",
   "metadata": {},
   "outputs": [],
   "source": [
    "driverCarCrashDF5.isna().sum()"
   ]
  },
  {
   "cell_type": "code",
   "execution_count": null,
   "id": "4899ef0e-320b-425c-972e-8f89b003a573",
   "metadata": {},
   "outputs": [],
   "source": [
    "from sklearn.preprocessing import StandardScaler"
   ]
  },
  {
   "cell_type": "code",
   "execution_count": null,
   "id": "5518a5e8-2d3e-411a-b314-cc9aba4da1ed",
   "metadata": {},
   "outputs": [],
   "source": [
    "scaler = StandardScaler()\n",
    "X = scaler.fit_transform(driverCarCrashDF5)"
   ]
  },
  {
   "cell_type": "code",
   "execution_count": null,
   "id": "a0cd966b-46c8-4270-b0fb-5ae8578a5386",
   "metadata": {},
   "outputs": [],
   "source": [
    "X"
   ]
  },
  {
   "cell_type": "code",
   "execution_count": null,
   "id": "699c502d-29f0-42c6-ad86-7c342e964067",
   "metadata": {},
   "outputs": [],
   "source": [
    "from sklearn.cluster import KMeans"
   ]
  },
  {
   "cell_type": "code",
   "execution_count": null,
   "id": "8053e9f3-3869-44d3-b10b-f8def46c93f7",
   "metadata": {},
   "outputs": [],
   "source": [
    "cluster = KMeans(4)\n",
    "model = cluster.fit(X)"
   ]
  },
  {
   "cell_type": "code",
   "execution_count": null,
   "id": "1e697a7c-08ea-4c0b-b100-68ae1302c963",
   "metadata": {},
   "outputs": [],
   "source": [
    "driverCarCrashDF4['cluster'] = model.labels_"
   ]
  },
  {
   "cell_type": "code",
   "execution_count": null,
   "id": "033f4add-502c-4f63-bfae-3a0b49e800bd",
   "metadata": {},
   "outputs": [],
   "source": [
    "r1 = driverCarCrashDF4.groupby(['LATITUDE', 'LONGITUDE'])['cluster'].max()\n",
    "#d1 = r1.reset_index()\n",
    "#d1\n",
    "r1.value_counts()"
   ]
  },
  {
   "cell_type": "code",
   "execution_count": null,
   "id": "09b4b311-d32d-4c93-bb77-39a57cc81fcb",
   "metadata": {},
   "outputs": [],
   "source": [
    "r2 = driverCarCrashDF4.groupby(['STREET_NAME'])['cluster'].max()\n",
    "r2.value_counts()\n",
    "#d2 = r2.reset_index()\n",
    "#d2"
   ]
  },
  {
   "cell_type": "code",
   "execution_count": null,
   "id": "a90d77a1-7d4f-4d90-a574-5d2d9868f94d",
   "metadata": {},
   "outputs": [],
   "source": [
    "r3 = driverCarCrashDF4.groupby(['cluster'])['NUMBER OF PERSONS KILLED'].sum()\n",
    "r3"
   ]
  },
  {
   "cell_type": "code",
   "execution_count": null,
   "id": "127279cc-bf36-49f1-bd35-33de57822c7a",
   "metadata": {},
   "outputs": [],
   "source": [
    "r4 = driverCarCrashDF4.groupby(['cluster'])['NUMBER OF PERSONS INJURED'].sum()\n",
    "r4"
   ]
  },
  {
   "cell_type": "code",
   "execution_count": null,
   "id": "e209f7cf-8488-49d9-95b9-b2de4c3e43d3",
   "metadata": {},
   "outputs": [],
   "source": [
    "r4.sort_values()"
   ]
  },
  {
   "cell_type": "code",
   "execution_count": null,
   "id": "a39d5b0b-12f3-403a-a69d-1baf68aca7d0",
   "metadata": {},
   "outputs": [],
   "source": [
    "newClusters = { x: i for i, x in enumerate(list(r4.sort_values().index))}\n",
    "newClusters"
   ]
  },
  {
   "cell_type": "code",
   "execution_count": null,
   "id": "9c067775-85a0-49a5-a3b4-d87ad7455d77",
   "metadata": {},
   "outputs": [],
   "source": [
    "driverCarCrashDF4['cluster2'] = driverCarCrashDF4.cluster.map(newClusters)\n",
    "driverCarCrashDF4['cluster2']"
   ]
  },
  {
   "cell_type": "code",
   "execution_count": null,
   "id": "8836061e-ea3f-4369-81d7-2168aa5726f5",
   "metadata": {},
   "outputs": [],
   "source": [
    "px.set_mapbox_access_token(open(\".mapbox_token\").read())"
   ]
  },
  {
   "cell_type": "code",
   "execution_count": null,
   "id": "f60f7ca0-427f-447d-9bd3-a8e7d10ba9f8",
   "metadata": {},
   "outputs": [],
   "source": [
    "#fig = px.density_mapbox(driverCarCrashDF4, \n",
    "#                        lat=\"LATITUDE\", \n",
    "#                        lon=\"LONGITUDE\",\n",
    "#                        z='cluster2', \n",
    "#                        radius=10,\n",
    "#                        zoom=10,\n",
    "#                        height=800,\n",
    "#                        mapbox_style=\"stamen-terrain\")\n",
    "#fig.show()"
   ]
  },
  {
   "cell_type": "code",
   "execution_count": null,
   "id": "44d4e692-9937-4afa-a653-d60b43da9e21",
   "metadata": {},
   "outputs": [],
   "source": [
    "#fig = px.scatter_mapbox(driverCarCrashDF4, \n",
    "#                        lat=\"LATITUDE\", \n",
    "#                        lon=\"LONGITUDE\",\n",
    "#                        color=\"cluster2\",\n",
    "#                        color_continuous_scale=px.colors.sequential.Jet, \n",
    "#                        size_max=150, \n",
    "#                        zoom=10,\n",
    "#                        height=800)\n",
    "#fig.show()"
   ]
  },
  {
   "cell_type": "code",
   "execution_count": null,
   "id": "e47d7f2c-c379-4bf9-8f00-1168097d8e1c",
   "metadata": {},
   "outputs": [],
   "source": []
  }
 ],
 "metadata": {
  "kernelspec": {
   "display_name": "Python 3 (ipykernel)",
   "language": "python",
   "name": "python3"
  },
  "language_info": {
   "codemirror_mode": {
    "name": "ipython",
    "version": 3
   },
   "file_extension": ".py",
   "mimetype": "text/x-python",
   "name": "python",
   "nbconvert_exporter": "python",
   "pygments_lexer": "ipython3",
   "version": "3.9.15"
  }
 },
 "nbformat": 4,
 "nbformat_minor": 5
}
