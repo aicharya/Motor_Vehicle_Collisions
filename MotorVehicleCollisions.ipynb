{
  "nbformat": 4,
  "nbformat_minor": 0,
  "metadata": {
    "colab": {
      "provenance": [],
      "authorship_tag": "ABX9TyMRAxewp62jhb7quojhsOYN",
      "include_colab_link": true
    },
    "kernelspec": {
      "name": "python3",
      "display_name": "Python 3"
    },
    "language_info": {
      "name": "python"
    }
  },
  "cells": [
    {
      "cell_type": "markdown",
      "metadata": {
        "id": "view-in-github",
        "colab_type": "text"
      },
      "source": [
        "<a href=\"https://colab.research.google.com/github/aicharya/Motor_Vehicle_Collisions/blob/main/MotorVehicleCollisions.ipynb\" target=\"_parent\"><img src=\"https://colab.research.google.com/assets/colab-badge.svg\" alt=\"Open In Colab\"/></a>"
      ]
    },
    {
      "cell_type": "code",
      "execution_count": 1,
      "metadata": {
        "id": "JS9MEaeoQNp5"
      },
      "outputs": [],
      "source": [
        "import pandas as pd"
      ]
    },
    {
      "cell_type": "code",
      "source": [
        "import plotly.express as px"
      ],
      "metadata": {
        "id": "nkJ4gAmu78Zr"
      },
      "execution_count": 2,
      "outputs": []
    },
    {
      "cell_type": "code",
      "source": [
        "columnDataTypes = { 'BOROUGH' : 'str', 'ZIP CODE' : 'str', 'ON STREET NAME' : 'str', 'CROSS STREET NAME' : 'str', 'OFF STREET NAME' : 'str',\n",
        "                    'VEHICLE TYPE CODE 1' : 'str', 'VEHICLE TYPE CODE 2' : 'str', 'VEHICLE TYPE CODE 3' : 'str' , \n",
        "                    'VEHICLE TYPE CODE 4' : 'str', 'VEHICLE TYPE CODE 5' : 'str',\n",
        "                    'CONTRIBUTING FACTOR VEHICLE 1' : 'str',  'CONTRIBUTING FACTOR VEHICLE 2' : 'str', 'CONTRIBUTING FACTOR VEHICLE 3' : 'str',\n",
        "                    'CONTRIBUTING FACTOR VEHICLE 4' : 'str', 'CONTRIBUTING FACTOR VEHICLE 5' : 'str' ,}"
      ],
      "metadata": {
        "id": "J2wH6b2qxtGk"
      },
      "execution_count": 3,
      "outputs": []
    },
    {
      "cell_type": "code",
      "source": [
        "columnDataTypes = { 'ZIP CODE' : 'str', }\n",
        "df = pd.read_csv('https://data.cityofnewyork.us/api/views/h9gi-nx95/rows.csv?accessType=DOWNLOAD', dtype = columnDataTypes, parse_dates = [[0, 1]], infer_datetime_format = True)"
      ],
      "metadata": {
        "id": "CEnzaVk_QQs9"
      },
      "execution_count": 9,
      "outputs": []
    },
    {
      "cell_type": "code",
      "source": [
        "for column in df.columns:\n",
        "  print(column, \" - \", pd.api.types.infer_dtype(df[column]))"
      ],
      "metadata": {
        "id": "noGP-3WF9HSa",
        "outputId": "cf2e84ec-4a9a-4aab-e615-81a51ca92506",
        "colab": {
          "base_uri": "https://localhost:8080/"
        }
      },
      "execution_count": 10,
      "outputs": [
        {
          "output_type": "stream",
          "name": "stdout",
          "text": [
            "CRASH DATE_CRASH TIME  -  datetime64\n",
            "BOROUGH  -  string\n",
            "ZIP CODE  -  string\n",
            "LATITUDE  -  floating\n",
            "LONGITUDE  -  floating\n",
            "LOCATION  -  string\n",
            "ON STREET NAME  -  string\n",
            "CROSS STREET NAME  -  string\n",
            "OFF STREET NAME  -  string\n",
            "NUMBER OF PERSONS INJURED  -  floating\n",
            "NUMBER OF PERSONS KILLED  -  floating\n",
            "NUMBER OF PEDESTRIANS INJURED  -  integer\n",
            "NUMBER OF PEDESTRIANS KILLED  -  integer\n",
            "NUMBER OF CYCLIST INJURED  -  integer\n",
            "NUMBER OF CYCLIST KILLED  -  integer\n",
            "NUMBER OF MOTORIST INJURED  -  integer\n",
            "NUMBER OF MOTORIST KILLED  -  integer\n",
            "CONTRIBUTING FACTOR VEHICLE 1  -  string\n",
            "CONTRIBUTING FACTOR VEHICLE 2  -  string\n",
            "CONTRIBUTING FACTOR VEHICLE 3  -  string\n",
            "CONTRIBUTING FACTOR VEHICLE 4  -  string\n",
            "CONTRIBUTING FACTOR VEHICLE 5  -  string\n",
            "COLLISION_ID  -  integer\n",
            "VEHICLE TYPE CODE 1  -  string\n",
            "VEHICLE TYPE CODE 2  -  string\n",
            "VEHICLE TYPE CODE 3  -  string\n",
            "VEHICLE TYPE CODE 4  -  string\n",
            "VEHICLE TYPE CODE 5  -  string\n"
          ]
        }
      ]
    },
    {
      "cell_type": "code",
      "source": [
        "df.head()"
      ],
      "metadata": {
        "colab": {
          "base_uri": "https://localhost:8080/",
          "height": 473
        },
        "id": "GLFf-AyJQQ4x",
        "outputId": "840da794-08c1-4b28-83c6-06fea7d29ce5"
      },
      "execution_count": 11,
      "outputs": [
        {
          "output_type": "execute_result",
          "data": {
            "text/plain": [
              "  CRASH DATE_CRASH TIME   BOROUGH ZIP CODE   LATITUDE  LONGITUDE  \\\n",
              "0   2021-09-11 02:39:00       NaN      NaN        NaN        NaN   \n",
              "1   2022-03-26 11:45:00       NaN      NaN        NaN        NaN   \n",
              "2   2022-06-29 06:55:00       NaN      NaN        NaN        NaN   \n",
              "3   2021-09-11 09:35:00  BROOKLYN    11208  40.667202 -73.866500   \n",
              "4   2021-12-14 08:13:00  BROOKLYN    11233  40.683304 -73.917274   \n",
              "\n",
              "                  LOCATION           ON STREET NAME CROSS STREET NAME  \\\n",
              "0                      NaN    WHITESTONE EXPRESSWAY         20 AVENUE   \n",
              "1                      NaN  QUEENSBORO BRIDGE UPPER               NaN   \n",
              "2                      NaN       THROGS NECK BRIDGE               NaN   \n",
              "3    (40.667202, -73.8665)                      NaN               NaN   \n",
              "4  (40.683304, -73.917274)          SARATOGA AVENUE    DECATUR STREET   \n",
              "\n",
              "           OFF STREET NAME  NUMBER OF PERSONS INJURED  ...  \\\n",
              "0                      NaN                        2.0  ...   \n",
              "1                      NaN                        1.0  ...   \n",
              "2                      NaN                        0.0  ...   \n",
              "3  1211      LORING AVENUE                        0.0  ...   \n",
              "4                      NaN                        0.0  ...   \n",
              "\n",
              "   CONTRIBUTING FACTOR VEHICLE 2  CONTRIBUTING FACTOR VEHICLE 3  \\\n",
              "0                    Unspecified                            NaN   \n",
              "1                            NaN                            NaN   \n",
              "2                    Unspecified                            NaN   \n",
              "3                            NaN                            NaN   \n",
              "4                            NaN                            NaN   \n",
              "\n",
              "   CONTRIBUTING FACTOR VEHICLE 4  CONTRIBUTING FACTOR VEHICLE 5  COLLISION_ID  \\\n",
              "0                            NaN                            NaN       4455765   \n",
              "1                            NaN                            NaN       4513547   \n",
              "2                            NaN                            NaN       4541903   \n",
              "3                            NaN                            NaN       4456314   \n",
              "4                            NaN                            NaN       4486609   \n",
              "\n",
              "   VEHICLE TYPE CODE 1  VEHICLE TYPE CODE 2 VEHICLE TYPE CODE 3  \\\n",
              "0                Sedan                Sedan                 NaN   \n",
              "1                Sedan                  NaN                 NaN   \n",
              "2                Sedan        Pick-up Truck                 NaN   \n",
              "3                Sedan                  NaN                 NaN   \n",
              "4                  NaN                  NaN                 NaN   \n",
              "\n",
              "  VEHICLE TYPE CODE 4 VEHICLE TYPE CODE 5  \n",
              "0                 NaN                 NaN  \n",
              "1                 NaN                 NaN  \n",
              "2                 NaN                 NaN  \n",
              "3                 NaN                 NaN  \n",
              "4                 NaN                 NaN  \n",
              "\n",
              "[5 rows x 28 columns]"
            ],
            "text/html": [
              "\n",
              "  <div id=\"df-c25d658a-663d-44e1-9697-a328ebcb09a6\">\n",
              "    <div class=\"colab-df-container\">\n",
              "      <div>\n",
              "<style scoped>\n",
              "    .dataframe tbody tr th:only-of-type {\n",
              "        vertical-align: middle;\n",
              "    }\n",
              "\n",
              "    .dataframe tbody tr th {\n",
              "        vertical-align: top;\n",
              "    }\n",
              "\n",
              "    .dataframe thead th {\n",
              "        text-align: right;\n",
              "    }\n",
              "</style>\n",
              "<table border=\"1\" class=\"dataframe\">\n",
              "  <thead>\n",
              "    <tr style=\"text-align: right;\">\n",
              "      <th></th>\n",
              "      <th>CRASH DATE_CRASH TIME</th>\n",
              "      <th>BOROUGH</th>\n",
              "      <th>ZIP CODE</th>\n",
              "      <th>LATITUDE</th>\n",
              "      <th>LONGITUDE</th>\n",
              "      <th>LOCATION</th>\n",
              "      <th>ON STREET NAME</th>\n",
              "      <th>CROSS STREET NAME</th>\n",
              "      <th>OFF STREET NAME</th>\n",
              "      <th>NUMBER OF PERSONS INJURED</th>\n",
              "      <th>...</th>\n",
              "      <th>CONTRIBUTING FACTOR VEHICLE 2</th>\n",
              "      <th>CONTRIBUTING FACTOR VEHICLE 3</th>\n",
              "      <th>CONTRIBUTING FACTOR VEHICLE 4</th>\n",
              "      <th>CONTRIBUTING FACTOR VEHICLE 5</th>\n",
              "      <th>COLLISION_ID</th>\n",
              "      <th>VEHICLE TYPE CODE 1</th>\n",
              "      <th>VEHICLE TYPE CODE 2</th>\n",
              "      <th>VEHICLE TYPE CODE 3</th>\n",
              "      <th>VEHICLE TYPE CODE 4</th>\n",
              "      <th>VEHICLE TYPE CODE 5</th>\n",
              "    </tr>\n",
              "  </thead>\n",
              "  <tbody>\n",
              "    <tr>\n",
              "      <th>0</th>\n",
              "      <td>2021-09-11 02:39:00</td>\n",
              "      <td>NaN</td>\n",
              "      <td>NaN</td>\n",
              "      <td>NaN</td>\n",
              "      <td>NaN</td>\n",
              "      <td>NaN</td>\n",
              "      <td>WHITESTONE EXPRESSWAY</td>\n",
              "      <td>20 AVENUE</td>\n",
              "      <td>NaN</td>\n",
              "      <td>2.0</td>\n",
              "      <td>...</td>\n",
              "      <td>Unspecified</td>\n",
              "      <td>NaN</td>\n",
              "      <td>NaN</td>\n",
              "      <td>NaN</td>\n",
              "      <td>4455765</td>\n",
              "      <td>Sedan</td>\n",
              "      <td>Sedan</td>\n",
              "      <td>NaN</td>\n",
              "      <td>NaN</td>\n",
              "      <td>NaN</td>\n",
              "    </tr>\n",
              "    <tr>\n",
              "      <th>1</th>\n",
              "      <td>2022-03-26 11:45:00</td>\n",
              "      <td>NaN</td>\n",
              "      <td>NaN</td>\n",
              "      <td>NaN</td>\n",
              "      <td>NaN</td>\n",
              "      <td>NaN</td>\n",
              "      <td>QUEENSBORO BRIDGE UPPER</td>\n",
              "      <td>NaN</td>\n",
              "      <td>NaN</td>\n",
              "      <td>1.0</td>\n",
              "      <td>...</td>\n",
              "      <td>NaN</td>\n",
              "      <td>NaN</td>\n",
              "      <td>NaN</td>\n",
              "      <td>NaN</td>\n",
              "      <td>4513547</td>\n",
              "      <td>Sedan</td>\n",
              "      <td>NaN</td>\n",
              "      <td>NaN</td>\n",
              "      <td>NaN</td>\n",
              "      <td>NaN</td>\n",
              "    </tr>\n",
              "    <tr>\n",
              "      <th>2</th>\n",
              "      <td>2022-06-29 06:55:00</td>\n",
              "      <td>NaN</td>\n",
              "      <td>NaN</td>\n",
              "      <td>NaN</td>\n",
              "      <td>NaN</td>\n",
              "      <td>NaN</td>\n",
              "      <td>THROGS NECK BRIDGE</td>\n",
              "      <td>NaN</td>\n",
              "      <td>NaN</td>\n",
              "      <td>0.0</td>\n",
              "      <td>...</td>\n",
              "      <td>Unspecified</td>\n",
              "      <td>NaN</td>\n",
              "      <td>NaN</td>\n",
              "      <td>NaN</td>\n",
              "      <td>4541903</td>\n",
              "      <td>Sedan</td>\n",
              "      <td>Pick-up Truck</td>\n",
              "      <td>NaN</td>\n",
              "      <td>NaN</td>\n",
              "      <td>NaN</td>\n",
              "    </tr>\n",
              "    <tr>\n",
              "      <th>3</th>\n",
              "      <td>2021-09-11 09:35:00</td>\n",
              "      <td>BROOKLYN</td>\n",
              "      <td>11208</td>\n",
              "      <td>40.667202</td>\n",
              "      <td>-73.866500</td>\n",
              "      <td>(40.667202, -73.8665)</td>\n",
              "      <td>NaN</td>\n",
              "      <td>NaN</td>\n",
              "      <td>1211      LORING AVENUE</td>\n",
              "      <td>0.0</td>\n",
              "      <td>...</td>\n",
              "      <td>NaN</td>\n",
              "      <td>NaN</td>\n",
              "      <td>NaN</td>\n",
              "      <td>NaN</td>\n",
              "      <td>4456314</td>\n",
              "      <td>Sedan</td>\n",
              "      <td>NaN</td>\n",
              "      <td>NaN</td>\n",
              "      <td>NaN</td>\n",
              "      <td>NaN</td>\n",
              "    </tr>\n",
              "    <tr>\n",
              "      <th>4</th>\n",
              "      <td>2021-12-14 08:13:00</td>\n",
              "      <td>BROOKLYN</td>\n",
              "      <td>11233</td>\n",
              "      <td>40.683304</td>\n",
              "      <td>-73.917274</td>\n",
              "      <td>(40.683304, -73.917274)</td>\n",
              "      <td>SARATOGA AVENUE</td>\n",
              "      <td>DECATUR STREET</td>\n",
              "      <td>NaN</td>\n",
              "      <td>0.0</td>\n",
              "      <td>...</td>\n",
              "      <td>NaN</td>\n",
              "      <td>NaN</td>\n",
              "      <td>NaN</td>\n",
              "      <td>NaN</td>\n",
              "      <td>4486609</td>\n",
              "      <td>NaN</td>\n",
              "      <td>NaN</td>\n",
              "      <td>NaN</td>\n",
              "      <td>NaN</td>\n",
              "      <td>NaN</td>\n",
              "    </tr>\n",
              "  </tbody>\n",
              "</table>\n",
              "<p>5 rows × 28 columns</p>\n",
              "</div>\n",
              "      <button class=\"colab-df-convert\" onclick=\"convertToInteractive('df-c25d658a-663d-44e1-9697-a328ebcb09a6')\"\n",
              "              title=\"Convert this dataframe to an interactive table.\"\n",
              "              style=\"display:none;\">\n",
              "        \n",
              "  <svg xmlns=\"http://www.w3.org/2000/svg\" height=\"24px\"viewBox=\"0 0 24 24\"\n",
              "       width=\"24px\">\n",
              "    <path d=\"M0 0h24v24H0V0z\" fill=\"none\"/>\n",
              "    <path d=\"M18.56 5.44l.94 2.06.94-2.06 2.06-.94-2.06-.94-.94-2.06-.94 2.06-2.06.94zm-11 1L8.5 8.5l.94-2.06 2.06-.94-2.06-.94L8.5 2.5l-.94 2.06-2.06.94zm10 10l.94 2.06.94-2.06 2.06-.94-2.06-.94-.94-2.06-.94 2.06-2.06.94z\"/><path d=\"M17.41 7.96l-1.37-1.37c-.4-.4-.92-.59-1.43-.59-.52 0-1.04.2-1.43.59L10.3 9.45l-7.72 7.72c-.78.78-.78 2.05 0 2.83L4 21.41c.39.39.9.59 1.41.59.51 0 1.02-.2 1.41-.59l7.78-7.78 2.81-2.81c.8-.78.8-2.07 0-2.86zM5.41 20L4 18.59l7.72-7.72 1.47 1.35L5.41 20z\"/>\n",
              "  </svg>\n",
              "      </button>\n",
              "      \n",
              "  <style>\n",
              "    .colab-df-container {\n",
              "      display:flex;\n",
              "      flex-wrap:wrap;\n",
              "      gap: 12px;\n",
              "    }\n",
              "\n",
              "    .colab-df-convert {\n",
              "      background-color: #E8F0FE;\n",
              "      border: none;\n",
              "      border-radius: 50%;\n",
              "      cursor: pointer;\n",
              "      display: none;\n",
              "      fill: #1967D2;\n",
              "      height: 32px;\n",
              "      padding: 0 0 0 0;\n",
              "      width: 32px;\n",
              "    }\n",
              "\n",
              "    .colab-df-convert:hover {\n",
              "      background-color: #E2EBFA;\n",
              "      box-shadow: 0px 1px 2px rgba(60, 64, 67, 0.3), 0px 1px 3px 1px rgba(60, 64, 67, 0.15);\n",
              "      fill: #174EA6;\n",
              "    }\n",
              "\n",
              "    [theme=dark] .colab-df-convert {\n",
              "      background-color: #3B4455;\n",
              "      fill: #D2E3FC;\n",
              "    }\n",
              "\n",
              "    [theme=dark] .colab-df-convert:hover {\n",
              "      background-color: #434B5C;\n",
              "      box-shadow: 0px 1px 3px 1px rgba(0, 0, 0, 0.15);\n",
              "      filter: drop-shadow(0px 1px 2px rgba(0, 0, 0, 0.3));\n",
              "      fill: #FFFFFF;\n",
              "    }\n",
              "  </style>\n",
              "\n",
              "      <script>\n",
              "        const buttonEl =\n",
              "          document.querySelector('#df-c25d658a-663d-44e1-9697-a328ebcb09a6 button.colab-df-convert');\n",
              "        buttonEl.style.display =\n",
              "          google.colab.kernel.accessAllowed ? 'block' : 'none';\n",
              "\n",
              "        async function convertToInteractive(key) {\n",
              "          const element = document.querySelector('#df-c25d658a-663d-44e1-9697-a328ebcb09a6');\n",
              "          const dataTable =\n",
              "            await google.colab.kernel.invokeFunction('convertToInteractive',\n",
              "                                                     [key], {});\n",
              "          if (!dataTable) return;\n",
              "\n",
              "          const docLinkHtml = 'Like what you see? Visit the ' +\n",
              "            '<a target=\"_blank\" href=https://colab.research.google.com/notebooks/data_table.ipynb>data table notebook</a>'\n",
              "            + ' to learn more about interactive tables.';\n",
              "          element.innerHTML = '';\n",
              "          dataTable['output_type'] = 'display_data';\n",
              "          await google.colab.output.renderOutput(dataTable, element);\n",
              "          const docLink = document.createElement('div');\n",
              "          docLink.innerHTML = docLinkHtml;\n",
              "          element.appendChild(docLink);\n",
              "        }\n",
              "      </script>\n",
              "    </div>\n",
              "  </div>\n",
              "  "
            ]
          },
          "metadata": {},
          "execution_count": 11
        }
      ]
    },
    {
      "cell_type": "code",
      "source": [
        "df.columns"
      ],
      "metadata": {
        "colab": {
          "base_uri": "https://localhost:8080/"
        },
        "id": "_1HDfW0lnB3D",
        "outputId": "fb71db25-a1fa-4bfb-cacb-503c5053902d"
      },
      "execution_count": 23,
      "outputs": [
        {
          "output_type": "execute_result",
          "data": {
            "text/plain": [
              "Index(['CRASH DATE_CRASH TIME', 'BOROUGH', 'ZIP CODE', 'LATITUDE', 'LONGITUDE',\n",
              "       'LOCATION', 'ON STREET NAME', 'CROSS STREET NAME', 'OFF STREET NAME',\n",
              "       'NUMBER OF PERSONS INJURED', 'NUMBER OF PERSONS KILLED',\n",
              "       'NUMBER OF PEDESTRIANS INJURED', 'NUMBER OF PEDESTRIANS KILLED',\n",
              "       'NUMBER OF CYCLIST INJURED', 'NUMBER OF CYCLIST KILLED',\n",
              "       'NUMBER OF MOTORIST INJURED', 'NUMBER OF MOTORIST KILLED',\n",
              "       'CONTRIBUTING FACTOR VEHICLE 1', 'CONTRIBUTING FACTOR VEHICLE 2',\n",
              "       'CONTRIBUTING FACTOR VEHICLE 3', 'CONTRIBUTING FACTOR VEHICLE 4',\n",
              "       'CONTRIBUTING FACTOR VEHICLE 5', 'COLLISION_ID', 'VEHICLE TYPE CODE 1',\n",
              "       'VEHICLE TYPE CODE 2', 'VEHICLE TYPE CODE 3', 'VEHICLE TYPE CODE 4',\n",
              "       'VEHICLE TYPE CODE 5'],\n",
              "      dtype='object')"
            ]
          },
          "metadata": {},
          "execution_count": 23
        }
      ]
    },
    {
      "cell_type": "code",
      "source": [
        "df.BOROUGH.hist()"
      ],
      "metadata": {
        "id": "Y6OJWwqfQadj",
        "colab": {
          "base_uri": "https://localhost:8080/",
          "height": 283
        },
        "outputId": "0b3145ce-1e69-41f0-9874-9cbe8961713e"
      },
      "execution_count": 7,
      "outputs": [
        {
          "output_type": "execute_result",
          "data": {
            "text/plain": [
              "<matplotlib.axes._subplots.AxesSubplot at 0x7f86ef4287d0>"
            ]
          },
          "metadata": {},
          "execution_count": 7
        },
        {
          "output_type": "display_data",
          "data": {
            "text/plain": [
              "<Figure size 432x288 with 1 Axes>"
            ],
            "image/png": "[encoded data removed]"
          },
          "metadata": {
            "needs_background": "light"
          }
        }
      ]
    },
    {
      "cell_type": "code",
      "source": [
        "df['ZIP CODE'] = df['ZIP CODE'].apply(lambda x : str(x))\n",
        "df['ZIP CODE'].hist()"
      ],
      "metadata": {
        "colab": {
          "base_uri": "https://localhost:8080/",
          "height": 283
        },
        "id": "MKvk8Lc-mXDE",
        "outputId": "0b429ac1-7d39-4518-f357-f9d41beb786d"
      },
      "execution_count": 12,
      "outputs": [
        {
          "output_type": "execute_result",
          "data": {
            "text/plain": [
              "<matplotlib.axes._subplots.AxesSubplot at 0x7f86fcadead0>"
            ]
          },
          "metadata": {},
          "execution_count": 12
        },
        {
          "output_type": "display_data",
          "data": {
            "text/plain": [
              "<Figure size 432x288 with 1 Axes>"
            ],
            "image/png": "[encoded data removed]"
          },
          "metadata": {
            "needs_background": "light"
          }
        }
      ]
    },
    {
      "cell_type": "code",
      "source": [
        "df['VEHICLE TYPE CODE 1'].value_counts()"
      ],
      "metadata": {
        "colab": {
          "base_uri": "https://localhost:8080/"
        },
        "id": "ReLVpsQ_mgqy",
        "outputId": "67526bd4-90ab-4283-a384-f4516eac8c5b"
      },
      "execution_count": 15,
      "outputs": [
        {
          "output_type": "execute_result",
          "data": {
            "text/plain": [
              "Sedan                                  518016\n",
              "PASSENGER VEHICLE                      416206\n",
              "Station Wagon/Sport Utility Vehicle    409223\n",
              "SPORT UTILITY / STATION WAGON          180291\n",
              "Taxi                                    48146\n",
              "                                        ...  \n",
              "SUBN WHI                                    1\n",
              "E bike                                      1\n",
              "FDNY Fire                                   1\n",
              "CARGO VAN                                   1\n",
              "E BIKE                                      1\n",
              "Name: VEHICLE TYPE CODE 1, Length: 1449, dtype: int64"
            ]
          },
          "metadata": {},
          "execution_count": 15
        }
      ]
    },
    {
      "cell_type": "code",
      "source": [
        "df.notna().sum()"
      ],
      "metadata": {
        "colab": {
          "base_uri": "https://localhost:8080/"
        },
        "id": "TmvtkPM1m9ig",
        "outputId": "75ebc204-66fc-48f4-f618-66eef2ce12b8"
      },
      "execution_count": 16,
      "outputs": [
        {
          "output_type": "execute_result",
          "data": {
            "text/plain": [
              "CRASH DATE                       1947735\n",
              "CRASH TIME                       1947735\n",
              "BOROUGH                          1342942\n",
              "ZIP CODE                         1947735\n",
              "LATITUDE                         1723459\n",
              "LONGITUDE                        1723459\n",
              "LOCATION                         1723459\n",
              "ON STREET NAME                   1542359\n",
              "CROSS STREET NAME                1229033\n",
              "OFF STREET NAME                   313005\n",
              "NUMBER OF PERSONS INJURED        1947717\n",
              "NUMBER OF PERSONS KILLED         1947704\n",
              "NUMBER OF PEDESTRIANS INJURED    1947735\n",
              "NUMBER OF PEDESTRIANS KILLED     1947735\n",
              "NUMBER OF CYCLIST INJURED        1947735\n",
              "NUMBER OF CYCLIST KILLED         1947735\n",
              "NUMBER OF MOTORIST INJURED       1947735\n",
              "NUMBER OF MOTORIST KILLED        1947735\n",
              "CONTRIBUTING FACTOR VEHICLE 1    1941832\n",
              "CONTRIBUTING FACTOR VEHICLE 2    1656251\n",
              "CONTRIBUTING FACTOR VEHICLE 3     136496\n",
              "CONTRIBUTING FACTOR VEHICLE 4      30344\n",
              "CONTRIBUTING FACTOR VEHICLE 5       8134\n",
              "COLLISION_ID                     1947735\n",
              "VEHICLE TYPE CODE 1              1936184\n",
              "VEHICLE TYPE CODE 2              1594505\n",
              "VEHICLE TYPE CODE 3               131984\n",
              "VEHICLE TYPE CODE 4                29366\n",
              "VEHICLE TYPE CODE 5                 7897\n",
              "dtype: int64"
            ]
          },
          "metadata": {},
          "execution_count": 16
        }
      ]
    },
    {
      "cell_type": "code",
      "source": [
        "df.dtypes"
      ],
      "metadata": {
        "colab": {
          "base_uri": "https://localhost:8080/"
        },
        "id": "DLeGC4_vsw2P",
        "outputId": "11b115f9-749a-467b-b92a-6abe76699db7"
      },
      "execution_count": 28,
      "outputs": [
        {
          "output_type": "execute_result",
          "data": {
            "text/plain": [
              "CRASH DATE_CRASH TIME            datetime64[ns]\n",
              "BOROUGH                                  object\n",
              "ZIP CODE                                 object\n",
              "LATITUDE                                float64\n",
              "LONGITUDE                               float64\n",
              "LOCATION                                 object\n",
              "ON STREET NAME                           object\n",
              "CROSS STREET NAME                        object\n",
              "OFF STREET NAME                          object\n",
              "NUMBER OF PERSONS INJURED               float64\n",
              "NUMBER OF PERSONS KILLED                float64\n",
              "NUMBER OF PEDESTRIANS INJURED             int64\n",
              "NUMBER OF PEDESTRIANS KILLED              int64\n",
              "NUMBER OF CYCLIST INJURED                 int64\n",
              "NUMBER OF CYCLIST KILLED                  int64\n",
              "NUMBER OF MOTORIST INJURED                int64\n",
              "NUMBER OF MOTORIST KILLED                 int64\n",
              "CONTRIBUTING FACTOR VEHICLE 1            object\n",
              "CONTRIBUTING FACTOR VEHICLE 2            object\n",
              "CONTRIBUTING FACTOR VEHICLE 3            object\n",
              "CONTRIBUTING FACTOR VEHICLE 4            object\n",
              "CONTRIBUTING FACTOR VEHICLE 5            object\n",
              "COLLISION_ID                              int64\n",
              "VEHICLE TYPE CODE 1                      object\n",
              "VEHICLE TYPE CODE 2                      object\n",
              "VEHICLE TYPE CODE 3                      object\n",
              "VEHICLE TYPE CODE 4                      object\n",
              "VEHICLE TYPE CODE 5                      object\n",
              "dtype: object"
            ]
          },
          "metadata": {},
          "execution_count": 28
        }
      ]
    },
    {
      "cell_type": "code",
      "source": [
        "df['CONTRIBUTING FACTOR VEHICLE 1']"
      ],
      "metadata": {
        "colab": {
          "base_uri": "https://localhost:8080/"
        },
        "id": "H90cXAjosx4l",
        "outputId": "ba258262-e4f2-494c-ad66-143f1e69a6cc"
      },
      "execution_count": 20,
      "outputs": [
        {
          "output_type": "execute_result",
          "data": {
            "text/plain": [
              "0           Aggressive Driving/Road Rage\n",
              "1                      Pavement Slippery\n",
              "2                  Following Too Closely\n",
              "3                            Unspecified\n",
              "4                                    NaN\n",
              "                       ...              \n",
              "1948478               Turning Improperly\n",
              "1948479    Failure to Yield Right-of-Way\n",
              "1948480    Failure to Yield Right-of-Way\n",
              "1948481               Turning Improperly\n",
              "1948482    Failure to Yield Right-of-Way\n",
              "Name: CONTRIBUTING FACTOR VEHICLE 1, Length: 1948483, dtype: object"
            ]
          },
          "metadata": {},
          "execution_count": 20
        }
      ]
    },
    {
      "cell_type": "code",
      "source": [],
      "metadata": {
        "id": "hbvlja4ov3Tz"
      },
      "execution_count": null,
      "outputs": []
    }
  ]
}